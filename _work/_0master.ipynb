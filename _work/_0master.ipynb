{
 "cells": [
  {
   "cell_type": "markdown",
   "metadata": {},
   "source": [
    "# Longitudinal  examination of the bone mechanostat theory in children\n",
    "\n",
    "Izabella A. Ludwa, Kevin P. Mongeon, Bareket Falk and Panagiota Klentrou\n",
    "- Department of Kinesiology, Brock University, St. Catharines, Ontario, Canada\n",
    "- Department of Sport Management, Brock University, St. Catharines, Ontario, Canada\n",
    "\n",
    "Short Title: Functional Bone Development in Children\n",
    "\n",
    "Corresponding author: <br>\n",
    "    Panagiota (Nota) Klentrou, PhD <br>\n",
    "    Professor <br>\n",
    "    Department of Kinesiology <br>\n",
    "    Brock University <br>\n",
    "    1812 Sir Isaac Brock Way <br>\n",
    "    St. Catharines, ON Canada L2S 3A1 <br>\n",
    "    T  905 688 5550  x4538  <br>\n",
    "    F  905 984 4851 <br>\n",
    "    email: nklentrou@brocku.ca <br>\n"
   ]
  },
  {
   "cell_type": "code",
   "execution_count": 69,
   "metadata": {},
   "outputs": [],
   "source": [
    "%%capture\n",
    "%reset -f\n",
    "\n",
    "import pandas\n",
    "import numpy\n",
    "import ipystata\n",
    "from ipystata.config import config_stata\n",
    "config_stata('/usr/local/stata/stata-mp')\n",
    "\n",
    "pandas.set_option('display.float_format', lambda x: '%.4f' % x)\n",
    "pandas.set_option('precision', 4)\n",
    "pandas.set_option('max_columns', 400)\n",
    "pandas.set_option('mode.sim_interactive', True)\n",
    "pandas.set_option('colheader_justify', 'center')\n",
    "%cd /mnt/intel1200/projects/git/exercise_physiology/_work\n",
    "\n",
    "from IPython.display import HTML, Markdown, Latex"
   ]
  },
  {
   "cell_type": "code",
   "execution_count": 13,
   "metadata": {},
   "outputs": [
    {
     "name": "stdout",
     "output_type": "stream",
     "text": [
      "Stored 'DM' (DataFrame)\n"
     ]
    }
   ],
   "source": [
    "%run ./_scripts/_0data_prepare.ipynb"
   ]
  },
  {
   "cell_type": "markdown",
   "metadata": {},
   "source": [
    "## Abstract\n",
    "\n",
    "This study provides experimental evidence in support of the conceptual functional model of bone development postulating that the primary mechanical challenges to bone’s mechanostat during growth is increases in muscle force. This longitudinal study measured radial and tibial bone properties, isometric grip and knee extensors strength, and maturity in 172 children aged 8-15 years 2-3 times over a period of 3 years. Both the conceptual model and research design motivates the multilevel structural equation that explicates the relationship between strength and physical maturation on bone properties."
   ]
  },
  {
   "cell_type": "code",
   "execution_count": 14,
   "metadata": {},
   "outputs": [],
   "source": [
    "%%stata -np\n",
    "do ./_scripts/_0data_describe.do"
   ]
  },
  {
   "cell_type": "markdown",
   "metadata": {},
   "source": [
    "## Research Design and Participants\n",
    "\n",
    "The study utilized a mixed-longitudinal design. Children and adolescents aged 8-16 were recruited from schools located in Southern Ontario, Canada. Data were collected from participants annually at Brock University's Applied Physiology Laboratory. To minimize potential seasonal effects, data collection took place during the spring and fall months (Riddoch et al., 2007). The first data collection session took place in the spring of 2010 and last session in the spring of 2013. As a result, four sessions occurred during the spring and three during the fall. \n",
    "\n",
    "Each data collection session involved two participant-visits, one week apart. During the first visit, anthropometric measures were taken and isometric knee extensor strength tests were conducted. Participants also completed a questionnaire regarding potential medical concerns and physical activity habits and were provided with an accelerometer to wear and track his or her physical activity during the week between laboratory visits. Participants were also provided with a sterile collection cup for a urine sample. During the second visit, accelerometers and urine samples were collected, and grip strength tests, bone ultrasound scans, and a 24-hour recall nutritional interview were conducted. Compensation was provided at the end of the second visit.\n",
    "\n",
    "Ninety-four children or adolescents participated in the spring sessions and 86 participated in the fall sessions, resulting in 180 total participants. Of the 180 participants, 36 attended one annual session, 53 attended two, 72 attended three, and 19 attended four sessions, resulting in 434 participant-session observations. However, not all participant-sessions resulted in data available for analysis purposes. Six observations were omitted because the participant was identified to have Type 1 Diabetes, eight observations were omitted because the participant suffered a fracture, 11 observations were omitted because the participant was identified as obese, and 3 observations were omitted because the participant missed the second visit. Grip-strength measurements were not taken during the Fall 2010 season. Therefore, 43 observations do not include a grip-strength measurement. Accelerometer scores are unavailable for 108 observations in which a minimum of 10 hours per day for 3 weekdays and one weekend day was recorded, and Ntx/creatine levels are unavailable for 29 observations for which the participant did not provide a urine sample. \n",
    "\n",
    "The data set available for analysis consists 406 participant-session observations, of which 306 observations include grip strength measurements, 289 include accelerometer scores, and 376 include Ntx/creatine levels. "
   ]
  },
  {
   "cell_type": "markdown",
   "metadata": {},
   "source": [
    "## Statistical analysis\n",
    "\n",
    "The repeated sampling of participants resulted in a hierarchical data set that consisted of within (level 1) and between (level 2) measurement variations. Table 1 outlines the variables used in the analysis, their means, and their standard deviations within and between participants. Shapiro-Wilk's tests did not reject the null hypothesis that the radial and tibial bone property distributions are normally distribution. Radial SOS measured an average of 129 points greater than tibial SOS (p=0.00). Girls, on average, has greater bone property measurements than boys; radial SOS by 19 (p=0.0495) and tibial SOS 22 points (0.0376). "
   ]
  },
  {
   "cell_type": "code",
   "execution_count": 131,
   "metadata": {},
   "outputs": [
    {
     "name": "stdout",
     "output_type": "stream",
     "text": [
      "\n",
      "                   Shapiro-Wilk W test for normal data\n",
      "\n",
      "    Variable |        Obs       W           V         z       Prob>z\n",
      "-------------+------------------------------------------------------\n",
      "        rsos |        406    0.99592      1.137     0.306    0.37983\n",
      "        tsos |        406    0.99706      0.821    -0.469    0.68033\n",
      "\n",
      "scalars:\n",
      "                  r(p) =  .68033492163076\n",
      "                  r(z) =  -.4686355574927704\n",
      "                  r(V) =  .8213428445682081\n",
      "                  r(W) =  .9970560315269038\n",
      "                  r(N) =  406\n",
      "\n",
      "Paired t test\n",
      "------------------------------------------------------------------------------\n",
      "Variable |     Obs        Mean    Std. Err.   Std. Dev.   [95% Conf. Interval]\n",
      "---------+--------------------------------------------------------------------\n",
      "    rsos |     406    3816.084    4.963334    100.0084    3806.327    3825.841\n",
      "    tsos |     406    3687.411    5.430257    109.4166    3676.736    3698.086\n",
      "---------+--------------------------------------------------------------------\n",
      "    diff |     406    128.6724     4.77945    96.30324    119.2768     138.068\n",
      "------------------------------------------------------------------------------\n",
      "     mean(diff) = mean(rsos - tsos)                               t =  26.9220\n",
      " Ho: mean(diff) = 0                              degrees of freedom =      405\n",
      "\n",
      " Ha: mean(diff) < 0           Ha: mean(diff) != 0           Ha: mean(diff) > 0\n",
      " Pr(T < t) = 1.0000         Pr(|T| > |t|) = 0.0000          Pr(T > t) = 0.0000\n",
      "\n",
      "scalars:\n",
      "              r(level) =  95\n",
      "               r(sd_2) =  109.4166384066057\n",
      "               r(sd_1) =  100.0084089391569\n",
      "                 r(se) =  4.77944970875788\n",
      "                r(p_u) =  1.47889354347e-92\n",
      "                r(p_l) =  1\n",
      "                  r(p) =  2.95778708694e-92\n",
      "                  r(t) =  26.92201438113759\n",
      "               r(df_t) =  405\n",
      "               r(mu_2) =  3687.411330049261\n",
      "                r(N_2) =  406\n",
      "               r(mu_1) =  3816.083743842365\n",
      "                r(N_1) =  406\n"
     ]
    }
   ],
   "source": [
    "%%stata --data DM\n",
    "\n",
    "swilk rsos tsos\n",
    "\n",
    "return list\n",
    "\n",
    "ttest rsos == tsos\n",
    "return list"
   ]
  },
  {
   "cell_type": "code",
   "execution_count": 111,
   "metadata": {},
   "outputs": [
    {
     "name": "stdout",
     "output_type": "stream",
     "text": [
      "| rsos | `s `f' rsos_mea` | `s `f' rsos_sdn` | `s `f' rsos_sdw` | `s `f' rsos_sdb` |\n",
      "| tsos | `s `f' tsos_mea` | `s `f' tsos_sdn` | `s `f' tsos_sdw` | `s `f' tsos_sdb` |\n",
      "| grip | `s `f' grip_mea` | `s `f' grip_sdn` | `s `f' grip_sdw` | `s `f' grip_sdb` |\n",
      "| biod | `s `f' biodex_mea` | `s `f' biodex_sdn` | `s `f' biodex_sdw` | `s `f' biodex_sdb` |\n",
      "| ntxc | `s `f' ntxc_mea` | `s `f' ntxc_sdn` | `s `f' ntxc_sdw` | `s `f' ntxc_sdb` |\n",
      "| matu | `s `f' matu_mea` | `s `f' matu_sdn` | `s `f' matu_sdw` | `s `f' matu_sdb` |\n",
      "| calo | `s `f' calo_mea` | `s `f' calo_sdn` | `s `f' calo_sdw` | `s `f' calo_sdb` |\n",
      "| mvh | `s `f' mvh_mea` | `s `f' mvh_sdn` | `s `f' mvh_sdw` | `s `f' mvh_sdb` |\n",
      "| Godi | `s `f' Godin_PA_mea` | `s `f' Godin_PA_sdn` | `s `f' Godin_PA_sdw` | `s `f' Godin_PA_sdb` |\n",
      "| PAQ_ | `s `f' PAQ_PRVNT_mea` | `s `f' PAQ_PRVNT_sdn` | `s `f' PAQ_PRVNT_sdw` | `s `f' PAQ_PRVNT_sdb` |\n",
      "| BMI | `s `f' BMI_mea` | `s `f' BMI_sdn` | `s `f' BMI_sdw` | `s `f' BMI_sdb` |\n",
      "| Bone | `s `f' Bone_Age_mea` | `s `f' Bone_Age_sdn` | `s `f' Bone_Age_sdw` | `s `f' Bone_Age_sdb` |\n"
     ]
    }
   ],
   "source": [
    "\n",
    "_v = ['rsos', 'tsos', 'grip', 'biodex', 'ntxc', 'matu', 'calo', 'mvh', 'Godin_PA', 'PAQ_PRVNT', 'BMI', 'Bone_Age']\n",
    "\n",
    "_d = dict()\n",
    "for var in _v:\n",
    "    t1 = var + str('_mea')\n",
    "    t2 = var + str('_sdn')\n",
    "    t3 = var + str('_sdw')\n",
    "    t4 = var + str('_sdb')\n",
    "\n",
    "    V  = str(var[:4])\n",
    "    V1 = \"`s `f' \" + t1 + \"`\"\n",
    "    V2 = \"`s `f' \" + t2 + \"`\"\n",
    "    V3 = \"`s `f' \" + t3 + \"`\"\n",
    "    V4 = \"`s `f' \" + t4 + \"`\"\n",
    "\n",
    "    L = '| ' + V + ' | ' +  V1 + ' | ' + V2 + ' | ' + V3 + ' | ' + V4 + ' |'\n",
    "    print(L)\n",
    "    \n",
    "    "
   ]
  },
  {
   "cell_type": "code",
   "execution_count": 128,
   "metadata": {},
   "outputs": [
    {
     "name": "stdout",
     "output_type": "stream",
     "text": [
      "\n",
      "\n"
     ]
    }
   ],
   "source": [
    "%%stata \n",
    "\n",
    "markstat using ./_tables/table1, strict nor  "
   ]
  },
  {
   "cell_type": "code",
   "execution_count": 130,
   "metadata": {},
   "outputs": [
    {
     "data": {
      "text/html": [
       "<!DOCTYPE html PUBLIC \"-//W3C//DTD XHTML 1.0 Transitional//EN\" \"http://www.w3.org/TR/xhtml1/DTD/xhtml1-transitional.dtd\">\n",
       "<html xmlns=\"http://www.w3.org/1999/xhtml\">\n",
       "<head>\n",
       "  <meta http-equiv=\"Content-Type\" content=\"text/html; charset=utf-8\" />\n",
       "  <meta http-equiv=\"Content-Style-Type\" content=\"text/css\" />\n",
       "  <meta name=\"generator\" content=\"pandoc\" />\n",
       "  <title></title>\n",
       "  <style type=\"text/css\">code{white-space: pre;}</style>\n",
       "</head>\n",
       "<body>\n",
       "<pre class='stata'>128.67241\n",
       "</pre>\n",
       "<p>The repeated sampling of participants resulted in a hierarchical data set that consisted of within (level 1) and between (level 2) measurement variations. Table 1 outlines the variables used in the analysis, their means, and their standard deviations within and between participants. Shapiro-Wilk's tests did not reject the null hypothesis that the radial and tibial bone property distributions are normally distribution. Radial SOS measured an average of 129 points greater than tibial SOS (p=0.00). Girls, on average, has greater bone property measurements than boys; radial SOS by 19 (p=0.0495) and tibial SOS 22 points (0.0376).</p>\n",
       "<p>The bone property variances exhibited two distinct characteristics. One is that notable between and within variances existed. Another is that their was greater variation across participants (i.e., between) than across time (i.e., within). The standard deviation of radial SOS measurements across participants (i.e., between) was 86 m/s compared to 51 m/s. The across and with participant standard deviation of tibial SOS was 96 and 50 m/s, respectively. Each independent variable also had a greater between compared to within variance to suggest that a fixed-participant estimation procedure may lead to considerable efficiency loss and a random-participant model is appropriate.</p>\n",
       "<h2 id=\"table-1.-descriptive-statistics.\">Table 1. Descriptive statistics.</h2>\n",
       "<table>\n",
       "<thead>\n",
       "<tr class=\"header\">\n",
       "<th align=\"left\">Variable</th>\n",
       "<th align=\"right\">Mean</th>\n",
       "<th align=\"right\">Std dev.</th>\n",
       "<th align=\"right\">Std dev within</th>\n",
       "<th align=\"right\">Std dev. between</th>\n",
       "</tr>\n",
       "</thead>\n",
       "<tbody>\n",
       "<tr class=\"odd\">\n",
       "<td align=\"left\">Radial SOS</td>\n",
       "<td align=\"right\">3816.08</td>\n",
       "<td align=\"right\">100.01</td>\n",
       "<td align=\"right\">51.45</td>\n",
       "<td align=\"right\">86.03</td>\n",
       "</tr>\n",
       "<tr class=\"even\">\n",
       "<td align=\"left\">Tibial SOS</td>\n",
       "<td align=\"right\">3687.41</td>\n",
       "<td align=\"right\">109.42</td>\n",
       "<td align=\"right\">49.82</td>\n",
       "<td align=\"right\">96.75</td>\n",
       "</tr>\n",
       "<tr class=\"odd\">\n",
       "<td align=\"left\">Grip strength</td>\n",
       "<td align=\"right\">23.43</td>\n",
       "<td align=\"right\">7.40</td>\n",
       "<td align=\"right\">3.21</td>\n",
       "<td align=\"right\">7.00</td>\n",
       "</tr>\n",
       "<tr class=\"even\">\n",
       "<td align=\"left\">Knee extensor</td>\n",
       "<td align=\"right\">131.48</td>\n",
       "<td align=\"right\">57.73</td>\n",
       "<td align=\"right\">22.32</td>\n",
       "<td align=\"right\">56.62</td>\n",
       "</tr>\n",
       "<tr class=\"odd\">\n",
       "<td align=\"left\">NTX creatine</td>\n",
       "<td align=\"right\">539.82</td>\n",
       "<td align=\"right\">263.65</td>\n",
       "<td align=\"right\">169.87</td>\n",
       "<td align=\"right\">213.75</td>\n",
       "</tr>\n",
       "<tr class=\"even\">\n",
       "<td align=\"left\">Maturity offset</td>\n",
       "<td align=\"right\">-0.86</td>\n",
       "<td align=\"right\">2.02</td>\n",
       "<td align=\"right\">0.88</td>\n",
       "<td align=\"right\">1.92</td>\n",
       "</tr>\n",
       "<tr class=\"odd\">\n",
       "<td align=\"left\">Energy intake</td>\n",
       "<td align=\"right\">1593.43</td>\n",
       "<td align=\"right\">479.51</td>\n",
       "<td align=\"right\">297.62</td>\n",
       "<td align=\"right\">369.99</td>\n",
       "</tr>\n",
       "<tr class=\"even\">\n",
       "<td align=\"left\">Godin PA</td>\n",
       "<td align=\"right\">73.78</td>\n",
       "<td align=\"right\">39.60</td>\n",
       "<td align=\"right\">24.84</td>\n",
       "<td align=\"right\">32.86</td>\n",
       "</tr>\n",
       "<tr class=\"odd\">\n",
       "<td align=\"left\">PVRNT</td>\n",
       "<td align=\"right\">0.10</td>\n",
       "<td align=\"right\">0.30</td>\n",
       "<td align=\"right\">0.21</td>\n",
       "<td align=\"right\">0.24</td>\n",
       "</tr>\n",
       "<tr class=\"even\">\n",
       "<td align=\"left\">BMI</td>\n",
       "<td align=\"right\">19.54</td>\n",
       "<td align=\"right\">3.66</td>\n",
       "<td align=\"right\">1.19</td>\n",
       "<td align=\"right\">3.60</td>\n",
       "</tr>\n",
       "<tr class=\"odd\">\n",
       "<td align=\"left\">Bone age</td>\n",
       "<td align=\"right\">12.02</td>\n",
       "<td align=\"right\">2.34</td>\n",
       "<td align=\"right\">1.10</td>\n",
       "<td align=\"right\">2.21</td>\n",
       "</tr>\n",
       "</tbody>\n",
       "</table>\n",
       "<p>Foreign cars use less fuel than domestic cars but are also lighter, when we compare cars with the same weight the imports use six-tenths of a gallon more per 100 miles than the domestic cars.</p>\n",
       "</body>\n",
       "</html>\n"
      ],
      "text/plain": [
       "<IPython.core.display.HTML object>"
      ]
     },
     "execution_count": 130,
     "metadata": {},
     "output_type": "execute_result"
    }
   ],
   "source": [
    "HTML('./_tables/table1.html')"
   ]
  },
  {
   "cell_type": "code",
   "execution_count": 156,
   "metadata": {},
   "outputs": [
    {
     "name": "stdout",
     "output_type": "stream",
     "text": [
      "\n",
      "Variable         |      Mean   Std. Dev.       Min        Max |    Observations\n",
      "-----------------+--------------------------------------------+----------------\n",
      "rsos     overall |  3816.084   100.0084       3554       4140 |     N =     406\n",
      "         between |             86.03224       3622       4119 |     n =     173\n",
      "         within  |             51.45185   3496.084   4012.084 | T-bar = 2.34682\n",
      "                 |                                            |\n",
      "tsos     overall |  3687.411   109.4166       3367       4015 |     N =     406\n",
      "         between |             96.74594       3395     3925.5 |     n =     173\n",
      "         within  |             49.81649   3501.161   3861.161 | T-bar = 2.34682\n",
      "\n",
      "                   Shapiro-Wilk W test for normal data\n",
      "\n",
      "    Variable |        Obs       W           V         z       Prob>z\n",
      "-------------+------------------------------------------------------\n",
      "        rsos |        406    0.99592      1.137     0.306    0.37983\n",
      "        tsos |        406    0.99706      0.821    -0.469    0.68033\n",
      "\n",
      "Paired t test\n",
      "------------------------------------------------------------------------------\n",
      "Variable |     Obs        Mean    Std. Err.   Std. Dev.   [95% Conf. Interval]\n",
      "---------+--------------------------------------------------------------------\n",
      "    rsos |     406    3816.084    4.963334    100.0084    3806.327    3825.841\n",
      "    tsos |     406    3687.411    5.430257    109.4166    3676.736    3698.086\n",
      "---------+--------------------------------------------------------------------\n",
      "    diff |     406    128.6724     4.77945    96.30324    119.2768     138.068\n",
      "------------------------------------------------------------------------------\n",
      "     mean(diff) = mean(rsos - tsos)                               t =  26.9220\n",
      " Ho: mean(diff) = 0                              degrees of freedom =      405\n",
      "\n",
      " Ha: mean(diff) < 0           Ha: mean(diff) != 0           Ha: mean(diff) > 0\n",
      " Pr(T < t) = 1.0000         Pr(|T| > |t|) = 0.0000          Pr(T > t) = 0.0000\n"
     ]
    }
   ],
   "source": [
    "%%stata --data DM \n",
    "\n",
    "quietly xtset id trip\n",
    "\n",
    "xtsum rsos tsos\n",
    "swilk rsos tsos\n",
    "ttest rsos == tsos\n",
    "\n",
    "*twoway (hist rsos, frac lcolor(gs12) fcolor(gs12)) (hist tsos, frac fcolor(none) lcolor(red)), legend(off) xtitle(\"rsos (red: tsos)\")\n",
    "\n"
   ]
  },
  {
   "cell_type": "markdown",
   "metadata": {},
   "source": [
    "## Statistical analysis\n",
    "\n",
    "The repeated sampling of participants resulted in a hierarchical data set that consisted of within (level 1) and between (level 2) measurement variations. Table 1 outlines the variables used in the analysis, their means, and their standard deviations within and between participants. Shapiro-Wilk's tests did not reject the null hypothesis that the radial and tibial bone property distributions are normally distribution. Radial SOS measured an average of 129 points greater than tibial SOS (p=0.00). Girls, on average, has greater bone property measurements than boys; radial SOS by 19 (p=0.0495) and tibial SOS 22 points (0.0376). \n",
    "\n",
    "The bone property variances exhibited two distinct characteristics. One is that notable between and within variances existed. Another is that their was greater variation across participants (i.e., between) than across time (i.e., within). The standard deviation of radial SOS measurements across participants (i.e., between) was 86 m/s compared to 51 m/s. The across and with participant standard deviation of tibial SOS was 96 and 50 m/s, respectively. Each independent variable also had a greater between compared to within variance to suggest that a fixed-participant estimation procedure may lead to considerable efficiency loss and a random-participant model is appropriate.\n",
    "\n",
    "The functional model of bone development provides the conceptual framework to model bone property changes. Rather than a direct causal effect between modulators and bone properties, the functional model of bone development postulates that modulators inflence muscle strength, which in turn influences bone properties (see Figure 1). A multilevel structural equation model  (i.e., SEM) was developed to test the intrinusic relationships between modulators, muscle strength, and bone properties. \n",
    "\n",
    "The goal of mediation analysis as framed in the literature in statistics is to disentangle the average treatment effect on outputs that operates through two channels: (1) Indirect output effects arising from the effect of treatment on measured inputs and (2) Direct output effects that operate through channels other than changes in the measured inputs. The mediation literature often ignores the point that Direct Effects are subject to some ambiguity: they can arise from inputs changed by the experiment that are not observed by the analyst, but can also arise from changes in the map between inputs and the outputs.\n",
    "The goal of mediation analysis as framed in the literature in statistics is to disentangle the average\n",
    "treatment effect on outputs that operates through two channels: (1) Indirect output effects arising\n",
    "from the effect of treatment on measured inputs and (2) Direct output effects that operate through\n",
    "2\n",
    "channels other than changes in the measured inputs.\n",
    "\n",
    "In brief, SEM is a multivariate statistical technique used to estimate a system of equations and test hypotheses about the relationships among variables. To do so, SEM explicates the direct relationships between observed variables and the covariance relationships between unobserved variables. Models were constructed using Stata 14’s Generalized Structural Equation package (see Kaplan, 2008; Kline, 2015 for an overview of structural equation modeling). \n",
    "\n",
    "The general SEM to describe bone property changes can be expressed as\n",
    "\n",
    "$$\n",
    "\\begin{align}\n",
    "\\mathbf{Y_{i,t}} \n",
    "&=  \n",
    "\\beta_0 \\mathbf{\\iota} + \\mathbf{M_{i,t}'}\\beta_1 + \\mathbf{Z_{i,t}'} \\Theta + \\gamma_i \\mathbf{\\iota} + \\epsilon_{i,t} \\\\\n",
    "\\mathbf{M_{i,t}} \n",
    "&= \n",
    "\\Omega W_{i,t} \\mathbf{\\iota} \\ + \\delta_i \\mathbf{\\iota} + \\mu_{i,t} \\\\\n",
    "\\end{align}\n",
    "$$\n",
    "\n",
    "The $\\mathbf{Y_{i,t}}$ denotes $i^{th}$ participant's bone property measurement on the $t^{th}$ occasion, and the $\\mathbf{M_{i,t}}$ term donotes his or her muscle strength measurement. The $\\mathbf{Z_{i,t}'}$ and $\\mathbf{W_{i,t}'}$ terms are matricies of modulators and control variables that potentials influence bone property or muscle strength changes. The $\\beta$, and $\\Omega$ terms denote the unknown fixed parameters, the $\\epsilon_{i,t}$ and $\\mu_{i,t}$ terms denote the unobserved within-participant (level-1) residuals, and the $\\gamma_{i}$ term denotes the unobserved random participant-effects (level 2). The random participant-effects are assumed to be normally distributed with a mean of zero and independent of the covariates. \n",
    "\n",
    "\n",
    "In the case of two bone property and muscle strength measurements, the model can be expressed as \n",
    "$\\mathbf{Y_{i,t}} = \n",
    "\\begin{bmatrix}\n",
    "    {y_1}_{i,t}  \\\\\n",
    "    {y_2}_{i,t} \n",
    "\\end{bmatrix}$\n",
    ", where ${y_1}_{i,t}$ and ${y_2}_{i,t}$ denote radial SOS and tibial SOS measurements, and \n",
    "$\\mathbf{M_{i,t}} =\n",
    "\\begin{bmatrix}\n",
    "    {m_1}_{i,t}  \\\\\n",
    "    {m_2}_{i,t} \n",
    "\\end{bmatrix}$\n",
    ", where ${m_1}_{i,t}$ and ${m_2}_{i,t}$ denote the isometric grip strength and knee extensor measurements. In the two dimensional case $ \\epsilon_{i,t} = \\begin{bmatrix}\n",
    "    {\\epsilon_1}_{i,t}  \\\\\n",
    "    {\\epsilon_2}_{i,t}\n",
    "\\end{bmatrix}\n",
    ", \\hspace{2mm}\n",
    "\\mu_{i,t} =\n",
    "\\begin{bmatrix}\n",
    "    {\\mu_1}_{i,t}  \\\\\n",
    "    {\\mu_2}_{i,t}\n",
    "\\end{bmatrix}$ and $\\Sigma\n",
    "= \n",
    "\\begin{bmatrix}\n",
    "    \\sigma^2_{\\epsilon_1} & \\sigma_{\\epsilon_1, \\epsilon_2}  \\\\\n",
    "    \\sigma_{\\epsilon_2, \\epsilon_1} & \\sigma^2_{\\epsilon_2}  \\\\\n",
    "\\end{bmatrix} \n",
    ", \\hspace{2mm}\n",
    "\\Psi\n",
    "= \n",
    "\\begin{bmatrix}\n",
    "    \\sigma^2_{\\mu_1} & \\sigma_{\\mu_1, \\mu_2}  \\\\\n",
    "    \\sigma_{\\mu_2, \\mu_1} & \\sigma^2_{\\mu_2}  \\\\\n",
    "\\end{bmatrix} $, where $\\Sigma$ denotes the variance-covariance matrix between the bone property residuals and $\\Psi$ denotes the variance-covariance matrix between the muscle strength residuals. The $\n",
    "\\iota_{i,t} =\n",
    "\\begin{bmatrix}\n",
    "    1  \\\\\n",
    "    1\n",
    "\\end{bmatrix}$ term ensures the matricies conform. \n",
    "\n",
    "\n",
    "\n",
    "\n"
   ]
  },
  {
   "cell_type": "markdown",
   "metadata": {},
   "source": [
    "## Empirical results"
   ]
  },
  {
   "cell_type": "markdown",
   "metadata": {},
   "source": [
    "## Make models"
   ]
  },
  {
   "cell_type": "code",
   "execution_count": null,
   "metadata": {},
   "outputs": [],
   "source": [
    "%%stata --data de\n",
    "\n",
    "*do _models_all.do\n",
    "*do _models_boys_girls.do"
   ]
  },
  {
   "cell_type": "markdown",
   "metadata": {},
   "source": [
    "## Table 2. Functional model of bone development test results."
   ]
  },
  {
   "cell_type": "code",
   "execution_count": null,
   "metadata": {},
   "outputs": [],
   "source": [
    "%%stata --data de \n",
    "\n",
    "do _table_all.do"
   ]
  },
  {
   "cell_type": "markdown",
   "metadata": {},
   "source": [
    "## Table 3. Bone property estimation results for boys and girl"
   ]
  },
  {
   "cell_type": "code",
   "execution_count": null,
   "metadata": {},
   "outputs": [],
   "source": [
    "%%stata --data de \n",
    "\n",
    "do _table_boys_girls_general.do"
   ]
  },
  {
   "cell_type": "markdown",
   "metadata": {},
   "source": [
    "## Table 4. Radial and tibial estimation results for boys and girl\n"
   ]
  },
  {
   "cell_type": "code",
   "execution_count": null,
   "metadata": {},
   "outputs": [],
   "source": [
    "%%stata --data de \n",
    "\n",
    "do _table_boys_girls_specific.do"
   ]
  },
  {
   "cell_type": "markdown",
   "metadata": {},
   "source": [
    "End."
   ]
  }
 ],
 "metadata": {
  "kernelspec": {
   "display_name": "Python 3",
   "language": "python",
   "name": "python3"
  },
  "language_info": {
   "codemirror_mode": {
    "name": "ipython",
    "version": 3
   },
   "file_extension": ".py",
   "mimetype": "text/x-python",
   "name": "python",
   "nbconvert_exporter": "python",
   "pygments_lexer": "ipython3",
   "version": "3.6.3"
  },
  "latex_metadata": {
   "affiliation": "Brock University, Faculty of Applied Health Sciences",
   "author": "Izabella A. Ludwa",
   "title": "Functional Bone Development in Children"
  }
 },
 "nbformat": 4,
 "nbformat_minor": 2
}
