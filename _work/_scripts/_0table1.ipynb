{
 "cells": [
  {
   "cell_type": "code",
   "execution_count": 1,
   "metadata": {},
   "outputs": [],
   "source": [
    "%%capture\n",
    "%reset -f\n",
    "\n",
    "import pandas\n",
    "import numpy\n",
    "import ipystata\n",
    "from ipystata.config import config_stata\n",
    "config_stata('/usr/local/stata/stata-mp')\n",
    "\n",
    "pandas.set_option('display.float_format', lambda x: '%.4f' % x)\n",
    "pandas.set_option('precision', 4)\n",
    "pandas.set_option('max_columns', 400)\n",
    "pandas.set_option('mode.sim_interactive', True)\n",
    "pandas.set_option('colheader_justify', 'center')\n",
    "%cd /mnt/intel1200/projects/git/exercise_physiology/_work"
   ]
  },
  {
   "cell_type": "code",
   "execution_count": 3,
   "metadata": {},
   "outputs": [
    {
     "name": "stdout",
     "output_type": "stream",
     "text": [
      "\n",
      "(webdoc output file is example1.md)\n",
      "(opening webdoc stlog example1_1)\n",
      "(1978 Automobile Data)\n",
      "\n",
      "      Source |       SS           df       MS      Number of obs   =        74\n",
      "-------------+----------------------------------   F(1, 72)        =     20.26\n",
      "       Model |   139449474         1   139449474   Prob > F        =    0.0000\n",
      "    Residual |   495615923        72  6883554.48   R-squared       =    0.2196\n",
      "-------------+----------------------------------   Adj R-squared   =    0.2087\n",
      "       Total |   635065396        73  8699525.97   Root MSE        =    2623.7\n",
      "\n",
      "------------------------------------------------------------------------------\n",
      "       price |      Coef.   Std. Err.      t    P>|t|     [95% Conf. Interval]\n",
      "-------------+----------------------------------------------------------------\n",
      "         mpg |  -238.8943   53.07669    -4.50   0.000    -344.7008   -133.0879\n",
      "       _cons |   11253.06   1170.813     9.61   0.000     8919.088    13587.03\n",
      "------------------------------------------------------------------------------\n",
      "(log-file written to example1_1.log)\n",
      "\n",
      "end of do-file\n",
      "(webdoc output written to example1.md)\n"
     ]
    }
   ],
   "source": [
    "%%stata \n",
    "clear all\n",
    "webdoc do example1-md.do"
   ]
  },
  {
   "cell_type": "code",
   "execution_count": null,
   "metadata": {},
   "outputs": [],
   "source": []
  }
 ],
 "metadata": {
  "kernelspec": {
   "display_name": "Python 3",
   "language": "python",
   "name": "python3"
  },
  "language_info": {
   "codemirror_mode": {
    "name": "ipython",
    "version": 3
   },
   "file_extension": ".py",
   "mimetype": "text/x-python",
   "name": "python",
   "nbconvert_exporter": "python",
   "pygments_lexer": "ipython3",
   "version": "3.6.3"
  }
 },
 "nbformat": 4,
 "nbformat_minor": 2
}
