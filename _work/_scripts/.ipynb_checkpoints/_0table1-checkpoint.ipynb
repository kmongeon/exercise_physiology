{
 "cells": [
  {
   "cell_type": "code",
   "execution_count": 1,
   "metadata": {},
   "outputs": [],
   "source": [
    "%%capture\n",
    "%reset -f\n",
    "\n",
    "import pandas\n",
    "import numpy\n",
    "import ipystata\n",
    "from ipystata.config import config_stata\n",
    "config_stata('/usr/local/stata/stata-mp')\n",
    "\n",
    "pandas.set_option('display.float_format', lambda x: '%.4f' % x)\n",
    "pandas.set_option('precision', 4)\n",
    "pandas.set_option('max_columns', 400)\n",
    "pandas.set_option('mode.sim_interactive', True)\n",
    "pandas.set_option('colheader_justify', 'center')\n",
    "%cd /mnt/intel1200/projects/git/exercise_physiology/_work"
   ]
  },
  {
   "cell_type": "code",
   "execution_count": 2,
   "metadata": {},
   "outputs": [
    {
     "name": "stdout",
     "output_type": "stream",
     "text": [
      "\n",
      "       panel variable:  id (unbalanced)\n",
      "        time variable:  trip, 1 to 4\n",
      "                delta:  1 unit\n",
      "\n",
      "Variable         |      Mean   Std. Dev.       Min        Max |    Observations\n",
      "-----------------+--------------------------------------------+----------------\n",
      "rsos     overall |  3816.084   100.0084       3554       4140 |     N =     406\n",
      "         between |             86.03224       3622       4119 |     n =     173\n",
      "         within  |             51.45185   3496.084   4012.084 | T-bar = 2.34682\n"
     ]
    }
   ],
   "source": [
    "%%stata \n",
    "clear all\n",
    "\n",
    "webdoc init example1, replace logall plain md\n",
    "/***\n",
    "## Exercise 1\n",
    "Open the 1978 Automobile Data and run a regression of price on milage\n",
    "using the `regress` command.\n",
    "***/\n",
    "sysuse auto\n",
    "regress price mpg\n",
    "\n"
   ]
  },
  {
   "cell_type": "code",
   "execution_count": null,
   "metadata": {},
   "outputs": [],
   "source": []
  }
 ],
 "metadata": {
  "kernelspec": {
   "display_name": "Python 3",
   "language": "python",
   "name": "python3"
  },
  "language_info": {
   "codemirror_mode": {
    "name": "ipython",
    "version": 3
   },
   "file_extension": ".py",
   "mimetype": "text/x-python",
   "name": "python",
   "nbconvert_exporter": "python",
   "pygments_lexer": "ipython3",
   "version": "3.6.3"
  }
 },
 "nbformat": 4,
 "nbformat_minor": 2
}
