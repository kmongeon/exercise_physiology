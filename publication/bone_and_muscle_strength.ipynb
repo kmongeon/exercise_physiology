{
 "cells": [
  {
   "cell_type": "markdown",
   "metadata": {},
   "source": [
    "# Longitudinal examination of the bone mechanostat theory in children\n",
    "\n",
    "\n",
    "\n",
    "Izabella A. Ludwa, Kevin Mongeon, Bareket Falk and Panagiota Klentrou\n",
    "\n",
    "\n"
   ]
  },
  {
   "cell_type": "code",
   "execution_count": 96,
   "metadata": {
    "ExecuteTime": {
     "end_time": "2017-08-10T22:55:09.848974Z",
     "start_time": "2017-08-10T22:55:09.840354Z"
    }
   },
   "outputs": [],
   "source": [
    "import os\n",
    "import sys\n",
    "import shutil\n",
    "import pandas\n",
    "import numpy\n",
    "import ipystata\n",
    "import matplotlib.pyplot as plt\n",
    "\n",
    "from ipystata.config import config_stata, config_syntax_higlight\n",
    "config_stata('/home/kmongeon/research/stata14/stata-mp',force_batch=True)\n",
    "\n",
    "pandas.options.display.max_columns = 100\n",
    "pandas.options.display.max_rows = 500\n",
    "\n"
   ]
  },
  {
   "cell_type": "code",
   "execution_count": 79,
   "metadata": {
    "ExecuteTime": {
     "end_time": "2017-08-10T19:40:44.937061Z",
     "start_time": "2017-08-10T19:40:44.923068Z"
    }
   },
   "outputs": [],
   "source": [
    "d1 = pandas.read_csv('./data/IzzyLongitudinalWorkingMarch2015.csv')\n",
    "d2 = pandas.read_csv('./data/torque.csv')\n",
    "d3 = pandas.read_csv('./data/Spring_2013_knee_extension.csv')\n"
   ]
  },
  {
   "cell_type": "markdown",
   "metadata": {},
   "source": [
    "## IzzyLongitudinalWorkingMarch2015"
   ]
  },
  {
   "cell_type": "code",
   "execution_count": 80,
   "metadata": {
    "ExecuteTime": {
     "end_time": "2017-08-10T19:40:45.906037Z",
     "start_time": "2017-08-10T19:40:45.901807Z"
    }
   },
   "outputs": [
    {
     "data": {
      "text/plain": [
       "Index(['ID', 'Session', 'Sequence', 'Gender', 'Age', 'Height', 'Seated Height',\n",
       "       'Leg Length', 'Weight', 'BF_Slaughter', 'BIA_PBF', 'BMI', 'LBM (kg)',\n",
       "       'Years from aPHV', 'Age_At_PHV', 'Mat_Offset_New', 'Bone_Age', 'Tanner',\n",
       "       'Menarche', 'Age_First_Period', 'Period_Frequency', 'Medications',\n",
       "       'Vitamins', 'Fracture', 'Radius_SOS', 'Radius_Z', 'Tibial_SOS',\n",
       "       'Tibial_Z', 'Wrist_Flexion_Best', 'Grip_Strength_Best',\n",
       "       'Forearm_Length', 'ForeArm_Lean_CSA', 'Forearm_US_CSA', 'Anterior_CSA',\n",
       "       'Anterior Radius', 'Ant_Rad_CSA', 'Anterior Ulna', 'Ant_Ulna_CSA',\n",
       "       'Posterior', 'Post_CSA', 'Tibialis Anterior', 'NTx', 'Creatinine',\n",
       "       'NTx/Creat', 'Caloric Intake', 'Calcium', 'Vit D', 'Vit D.1',\n",
       "       'Caffeine', 'tot sedetary', 'tot light', 'tot mod', 'tot hard',\n",
       "       'tot v hard', 'tot mvh', 'Total time', 'Godin_PA', 'PAQ_TOTAL_SCORE',\n",
       "       'PAQ-PRVNT', 'Training_Data', 'Upper Arm_Length', 'Arm_Circumference',\n",
       "       'Arm_Lean_CSA', 'Thigh_Length', 'Thigh_Circumference', 'Thigh_Lean_CSA',\n",
       "       'Biceps Brachii', 'Biceps Brachii.1', 'Quads', 'Quads.1'],\n",
       "      dtype='object')"
      ]
     },
     "execution_count": 80,
     "metadata": {},
     "output_type": "execute_result"
    }
   ],
   "source": [
    "d1.columns"
   ]
  },
  {
   "cell_type": "code",
   "execution_count": 81,
   "metadata": {
    "ExecuteTime": {
     "end_time": "2017-08-10T19:40:46.581264Z",
     "start_time": "2017-08-10T19:40:46.577902Z"
    },
    "collapsed": true
   },
   "outputs": [],
   "source": [
    "d1 = d1[['ID', 'Session', 'Sequence', 'Gender', 'Radius_SOS', 'Tibial_SOS', 'Grip_Strength_Best', 'NTx/Creat', 'Mat_Offset_New', 'tot mvh']]"
   ]
  },
  {
   "cell_type": "code",
   "execution_count": 82,
   "metadata": {
    "ExecuteTime": {
     "end_time": "2017-08-10T19:40:47.034416Z",
     "start_time": "2017-08-10T19:40:47.031003Z"
    }
   },
   "outputs": [],
   "source": [
    "d1 = d1.rename(columns={'ID': 'id', 'Session': 'session', 'Sequence': 'sequence'\n",
    "                   , 'Gender': 'gender', 'Radius_SOS': 'rsos', 'Tibial_SOS': 'tsos'\n",
    "                   , 'Grip_Strength_Best': 'grip', 'NTx/Creat': 'ntxc', 'Mat_Offset_New': 'matu', 'tot mvh': 'mvh'})"
   ]
  },
  {
   "cell_type": "code",
   "execution_count": 102,
   "metadata": {
    "ExecuteTime": {
     "end_time": "2017-08-10T22:57:47.039144Z",
     "start_time": "2017-08-10T22:57:47.032809Z"
    }
   },
   "outputs": [
    {
     "data": {
      "text/plain": [
       "512    4\n",
       "513    2\n",
       "514    4\n",
       "515    4\n",
       "516    4\n",
       "517    4\n",
       "518    4\n",
       "519    3\n",
       "520    3\n",
       "521    3\n",
       "522    1\n",
       "523    3\n",
       "524    3\n",
       "525    3\n",
       "526    3\n",
       "527    3\n",
       "528    3\n",
       "530    3\n",
       "531    3\n",
       "532    3\n",
       "533    3\n",
       "534    2\n",
       "535    3\n",
       "536    2\n",
       "537    2\n",
       "538    2\n",
       "539    2\n",
       "540    1\n",
       "541    3\n",
       "542    3\n",
       "543    3\n",
       "544    3\n",
       "545    3\n",
       "546    2\n",
       "547    2\n",
       "548    3\n",
       "549    3\n",
       "550    3\n",
       "551    3\n",
       "552    3\n",
       "553    2\n",
       "554    2\n",
       "555    1\n",
       "556    3\n",
       "557    3\n",
       "558    1\n",
       "559    1\n",
       "560    2\n",
       "561    2\n",
       "562    1\n",
       "563    2\n",
       "564    1\n",
       "565    2\n",
       "566    2\n",
       "567    2\n",
       "568    1\n",
       "569    2\n",
       "570    1\n",
       "571    1\n",
       "572    2\n",
       "573    2\n",
       "574    2\n",
       "575    2\n",
       "576    1\n",
       "577    2\n",
       "579    2\n",
       "581    2\n",
       "582    1\n",
       "583    1\n",
       "100    4\n",
       "101    1\n",
       "102    4\n",
       "103    3\n",
       "104    2\n",
       "105    3\n",
       "106    3\n",
       "107    4\n",
       "108    2\n",
       "109    4\n",
       "110    4\n",
       "111    1\n",
       "112    3\n",
       "114    1\n",
       "115    3\n",
       "116    1\n",
       "117    4\n",
       "118    3\n",
       "119    3\n",
       "120    4\n",
       "121    4\n",
       "122    3\n",
       "123    1\n",
       "124    3\n",
       "125    3\n",
       "126    3\n",
       "127    3\n",
       "128    1\n",
       "129    3\n",
       "130    3\n",
       "131    3\n",
       "132    3\n",
       "133    3\n",
       "134    3\n",
       "135    3\n",
       "136    2\n",
       "137    3\n",
       "138    3\n",
       "139    3\n",
       "140    3\n",
       "141    3\n",
       "142    3\n",
       "143    3\n",
       "144    1\n",
       "145    3\n",
       "146    3\n",
       "147    3\n",
       "148    3\n",
       "149    3\n",
       "150    2\n",
       "151    3\n",
       "152    3\n",
       "153    3\n",
       "154    2\n",
       "155    3\n",
       "156    3\n",
       "157    2\n",
       "158    2\n",
       "159    3\n",
       "160    2\n",
       "161    3\n",
       "162    3\n",
       "163    2\n",
       "164    2\n",
       "165    2\n",
       "167    2\n",
       "168    2\n",
       "169    2\n",
       "170    2\n",
       "171    1\n",
       "172    1\n",
       "173    2\n",
       "174    2\n",
       "175    2\n",
       "176    2\n",
       "177    2\n",
       "178    1\n",
       "179    1\n",
       "180    1\n",
       "181    2\n",
       "182    1\n",
       "183    1\n",
       "184    1\n",
       "186    2\n",
       "187    1\n",
       "188    2\n",
       "189    2\n",
       "190    2\n",
       "191    2\n",
       "192    2\n",
       "193    1\n",
       "195    1\n",
       "196    1\n",
       "197    1\n",
       "198    1\n",
       "199    1\n",
       "200    1\n",
       "500    4\n",
       "501    3\n",
       "502    4\n",
       "503    4\n",
       "504    4\n",
       "505    2\n",
       "506    3\n",
       "507    2\n",
       "508    3\n",
       "509    3\n",
       "510    3\n",
       "511    3\n",
       "Name: id, dtype: int64"
      ]
     },
     "execution_count": 102,
     "metadata": {},
     "output_type": "execute_result"
    }
   ],
   "source": [
    "d1.id.value_counts(dropna=False, sort=False)\n"
   ]
  },
  {
   "cell_type": "code",
   "execution_count": 83,
   "metadata": {
    "ExecuteTime": {
     "end_time": "2017-08-10T19:40:47.392356Z",
     "start_time": "2017-08-10T19:40:47.388104Z"
    }
   },
   "outputs": [
    {
     "data": {
      "text/plain": [
       "1    244\n",
       "2    183\n",
       "Name: session, dtype: int64"
      ]
     },
     "execution_count": 83,
     "metadata": {},
     "output_type": "execute_result"
    }
   ],
   "source": [
    "d1.session.value_counts(dropna=False, sort=False)"
   ]
  },
  {
   "cell_type": "code",
   "execution_count": 86,
   "metadata": {
    "ExecuteTime": {
     "end_time": "2017-08-10T19:40:48.887095Z",
     "start_time": "2017-08-10T19:40:48.882515Z"
    }
   },
   "outputs": [
    {
     "data": {
      "text/plain": [
       "1    44\n",
       "2    38\n",
       "3    78\n",
       "4    71\n",
       "5    71\n",
       "6    74\n",
       "7    51\n",
       "Name: sequence, dtype: int64"
      ]
     },
     "execution_count": 86,
     "metadata": {},
     "output_type": "execute_result"
    }
   ],
   "source": [
    "d1.sequence.value_counts(dropna=False, sort=False)"
   ]
  },
  {
   "cell_type": "markdown",
   "metadata": {},
   "source": [
    "# torque"
   ]
  },
  {
   "cell_type": "code",
   "execution_count": 84,
   "metadata": {
    "ExecuteTime": {
     "end_time": "2017-08-10T19:40:47.797941Z",
     "start_time": "2017-08-10T19:40:47.794841Z"
    }
   },
   "outputs": [
    {
     "data": {
      "text/plain": [
       "Index(['ID', 'Biodex_ID', 'Sequence', 'Session', 'New_Sequence', 'Gender',\n",
       "       'Visit_One', 'Visit_Two', 'DOB', 'Age (days)', 'Age (years)', 'ptiso',\n",
       "       'pt60', 'pt240'],\n",
       "      dtype='object')"
      ]
     },
     "execution_count": 84,
     "metadata": {},
     "output_type": "execute_result"
    }
   ],
   "source": [
    "d2.columns"
   ]
  },
  {
   "cell_type": "code",
   "execution_count": 85,
   "metadata": {
    "ExecuteTime": {
     "end_time": "2017-08-10T19:40:48.233816Z",
     "start_time": "2017-08-10T19:40:48.230624Z"
    },
    "collapsed": true
   },
   "outputs": [],
   "source": [
    "d2 = d2[['ID', 'Session', 'Sequence', 'New_Sequence', 'Gender', 'ptiso']]"
   ]
  },
  {
   "cell_type": "code",
   "execution_count": 103,
   "metadata": {
    "ExecuteTime": {
     "end_time": "2017-08-10T22:58:16.302165Z",
     "start_time": "2017-08-10T22:58:16.295346Z"
    }
   },
   "outputs": [
    {
     "data": {
      "text/plain": [
       "512    3\n",
       "513    2\n",
       "514    3\n",
       "515    3\n",
       "516    3\n",
       "517    3\n",
       "518    3\n",
       "519    3\n",
       "520    3\n",
       "521    3\n",
       "522    1\n",
       "523    3\n",
       "524    3\n",
       "525    3\n",
       "526    3\n",
       "527    3\n",
       "528    3\n",
       "529    1\n",
       "530    3\n",
       "531    3\n",
       "532    2\n",
       "533    3\n",
       "534    2\n",
       "535    3\n",
       "536    2\n",
       "537    2\n",
       "538    2\n",
       "539    2\n",
       "540    1\n",
       "541    2\n",
       "542    2\n",
       "543    2\n",
       "544    2\n",
       "545    2\n",
       "546    2\n",
       "547    2\n",
       "548    2\n",
       "549    2\n",
       "550    2\n",
       "551    2\n",
       "552    2\n",
       "553    2\n",
       "554    2\n",
       "555    1\n",
       "556    2\n",
       "557    2\n",
       "558    1\n",
       "559    1\n",
       "560    2\n",
       "561    2\n",
       "562    1\n",
       "563    2\n",
       "564    1\n",
       "565    2\n",
       "566    2\n",
       "567    2\n",
       "568    1\n",
       "569    2\n",
       "570    1\n",
       "571    1\n",
       "572    2\n",
       "573    2\n",
       "574    2\n",
       "575    2\n",
       "576    1\n",
       "577    2\n",
       "579    1\n",
       "581    1\n",
       "582    1\n",
       "583    1\n",
       "100    3\n",
       "101    1\n",
       "102    3\n",
       "103    2\n",
       "104    2\n",
       "105    3\n",
       "106    3\n",
       "107    3\n",
       "108    2\n",
       "109    3\n",
       "110    3\n",
       "111    1\n",
       "112    3\n",
       "113    3\n",
       "114    1\n",
       "115    3\n",
       "116    1\n",
       "117    3\n",
       "118    3\n",
       "119    3\n",
       "120    3\n",
       "121    3\n",
       "122    3\n",
       "123    1\n",
       "124    3\n",
       "125    3\n",
       "126    3\n",
       "127    3\n",
       "128    3\n",
       "129    3\n",
       "130    3\n",
       "131    3\n",
       "132    3\n",
       "133    3\n",
       "134    3\n",
       "135    3\n",
       "136    2\n",
       "137    3\n",
       "138    3\n",
       "139    3\n",
       "140    3\n",
       "141    3\n",
       "142    3\n",
       "143    3\n",
       "144    1\n",
       "145    3\n",
       "146    3\n",
       "147    3\n",
       "148    2\n",
       "149    2\n",
       "150    2\n",
       "151    2\n",
       "152    2\n",
       "153    2\n",
       "154    2\n",
       "155    2\n",
       "156    2\n",
       "157    2\n",
       "158    2\n",
       "159    2\n",
       "160    2\n",
       "161    2\n",
       "162    2\n",
       "163    2\n",
       "164    2\n",
       "165    2\n",
       "167    2\n",
       "168    2\n",
       "169    2\n",
       "170    2\n",
       "171    1\n",
       "172    1\n",
       "173    2\n",
       "174    2\n",
       "175    2\n",
       "176    2\n",
       "177    2\n",
       "178    1\n",
       "179    1\n",
       "181    2\n",
       "182    1\n",
       "183    1\n",
       "184    1\n",
       "186    1\n",
       "187    1\n",
       "188    1\n",
       "189    1\n",
       "190    1\n",
       "191    1\n",
       "192    1\n",
       "193    1\n",
       "195    1\n",
       "196    1\n",
       "197    1\n",
       "198    1\n",
       "199    1\n",
       "200    1\n",
       "800    1\n",
       "801    1\n",
       "802    1\n",
       "803    1\n",
       "804    1\n",
       "805    1\n",
       "806    1\n",
       "807    1\n",
       "808    1\n",
       "809    1\n",
       "810    1\n",
       "811    1\n",
       "812    1\n",
       "813    1\n",
       "814    1\n",
       "815    1\n",
       "816    1\n",
       "817    1\n",
       "818    1\n",
       "819    1\n",
       "900    1\n",
       "901    1\n",
       "902    1\n",
       "903    1\n",
       "904    1\n",
       "905    1\n",
       "906    1\n",
       "907    1\n",
       "908    1\n",
       "909    1\n",
       "910    1\n",
       "911    1\n",
       "912    1\n",
       "913    1\n",
       "914    1\n",
       "915    1\n",
       "916    1\n",
       "917    1\n",
       "918    1\n",
       "919    1\n",
       "500    3\n",
       "501    3\n",
       "502    3\n",
       "503    3\n",
       "504    3\n",
       "505    2\n",
       "506    3\n",
       "507    2\n",
       "508    2\n",
       "509    3\n",
       "510    3\n",
       "511    3\n",
       "Name: id, dtype: int64"
      ]
     },
     "execution_count": 103,
     "metadata": {},
     "output_type": "execute_result"
    }
   ],
   "source": [
    "d2.id.value_counts(dropna=False, sort=False)\n"
   ]
  },
  {
   "cell_type": "code",
   "execution_count": 87,
   "metadata": {
    "ExecuteTime": {
     "end_time": "2017-08-10T19:40:54.849399Z",
     "start_time": "2017-08-10T19:40:54.846054Z"
    },
    "collapsed": true
   },
   "outputs": [],
   "source": [
    "d2 = d2.rename(columns={'ID': 'id', 'Session': 'session', 'Sequence': 'sequence'\n",
    "                   , 'Gender': 'gender', 'New_Sequence': 'new_sequence', 'ptiso': 'ptiso'})"
   ]
  },
  {
   "cell_type": "code",
   "execution_count": 88,
   "metadata": {
    "ExecuteTime": {
     "end_time": "2017-08-10T19:40:55.267408Z",
     "start_time": "2017-08-10T19:40:55.262860Z"
    }
   },
   "outputs": [
    {
     "data": {
      "text/plain": [
       "0     40\n",
       "1    196\n",
       "2    185\n",
       "Name: session, dtype: int64"
      ]
     },
     "execution_count": 88,
     "metadata": {},
     "output_type": "execute_result"
    }
   ],
   "source": [
    "d2.session.value_counts(dropna=False, sort=False)"
   ]
  },
  {
   "cell_type": "code",
   "execution_count": 89,
   "metadata": {
    "ExecuteTime": {
     "end_time": "2017-08-10T19:40:55.806145Z",
     "start_time": "2017-08-10T19:40:55.802206Z"
    }
   },
   "outputs": [
    {
     "data": {
      "text/plain": [
       "1    124\n",
       "2    150\n",
       "3    147\n",
       "Name: sequence, dtype: int64"
      ]
     },
     "execution_count": 89,
     "metadata": {},
     "output_type": "execute_result"
    }
   ],
   "source": [
    "d2.sequence.value_counts(dropna=False, sort=False)"
   ]
  },
  {
   "cell_type": "code",
   "execution_count": 90,
   "metadata": {
    "ExecuteTime": {
     "end_time": "2017-08-10T19:40:56.234114Z",
     "start_time": "2017-08-10T19:40:56.230144Z"
    }
   },
   "outputs": [
    {
     "data": {
      "text/plain": [
       "0    40\n",
       "1    45\n",
       "2    39\n",
       "3    79\n",
       "4    71\n",
       "5    72\n",
       "6    75\n",
       "Name: new_sequence, dtype: int64"
      ]
     },
     "execution_count": 90,
     "metadata": {},
     "output_type": "execute_result"
    }
   ],
   "source": [
    "d2.new_sequence.value_counts(dropna=False, sort=False)"
   ]
  },
  {
   "cell_type": "markdown",
   "metadata": {},
   "source": [
    "# Spring_2013_knee_extension"
   ]
  },
  {
   "cell_type": "code",
   "execution_count": 91,
   "metadata": {
    "ExecuteTime": {
     "end_time": "2017-08-10T19:40:57.425507Z",
     "start_time": "2017-08-10T19:40:57.422010Z"
    }
   },
   "outputs": [
    {
     "data": {
      "text/plain": [
       "Index(['session', 'sequence', 'id', 'ptiso'], dtype='object')"
      ]
     },
     "execution_count": 91,
     "metadata": {},
     "output_type": "execute_result"
    }
   ],
   "source": [
    "d3.columns"
   ]
  },
  {
   "cell_type": "code",
   "execution_count": 92,
   "metadata": {
    "ExecuteTime": {
     "end_time": "2017-08-10T19:40:57.696695Z",
     "start_time": "2017-08-10T19:40:57.693814Z"
    },
    "collapsed": true
   },
   "outputs": [],
   "source": [
    "d3 = d3[['id', 'session', 'sequence', 'ptiso']]"
   ]
  },
  {
   "cell_type": "code",
   "execution_count": 104,
   "metadata": {
    "ExecuteTime": {
     "end_time": "2017-08-10T22:58:49.364980Z",
     "start_time": "2017-08-10T22:58:49.359955Z"
    }
   },
   "outputs": [
    {
     "data": {
      "text/plain": [
       "512    1\n",
       "514    1\n",
       "515    1\n",
       "516    1\n",
       "517    1\n",
       "518    1\n",
       "159    1\n",
       "148    1\n",
       "149    1\n",
       "151    1\n",
       "152    1\n",
       "153    1\n",
       "155    1\n",
       "156    1\n",
       "541    1\n",
       "542    1\n",
       "543    1\n",
       "544    1\n",
       "161    1\n",
       "162    1\n",
       "548    1\n",
       "549    1\n",
       "550    1\n",
       "551    1\n",
       "552    1\n",
       "556    1\n",
       "557    1\n",
       "186    1\n",
       "545    1\n",
       "188    1\n",
       "189    1\n",
       "190    1\n",
       "191    1\n",
       "579    1\n",
       "120    1\n",
       "100    1\n",
       "102    1\n",
       "103    1\n",
       "107    1\n",
       "109    1\n",
       "110    1\n",
       "113    1\n",
       "500    1\n",
       "117    1\n",
       "502    1\n",
       "532    1\n",
       "504    1\n",
       "121    1\n",
       "508    1\n",
       "503    1\n",
       "Name: id, dtype: int64"
      ]
     },
     "execution_count": 104,
     "metadata": {},
     "output_type": "execute_result"
    }
   ],
   "source": [
    "d3.id.value_counts(dropna=False, sort=False)"
   ]
  },
  {
   "cell_type": "code",
   "execution_count": 93,
   "metadata": {
    "ExecuteTime": {
     "end_time": "2017-08-10T19:40:58.112715Z",
     "start_time": "2017-08-10T19:40:58.108614Z"
    }
   },
   "outputs": [
    {
     "data": {
      "text/plain": [
       "1    50\n",
       "Name: session, dtype: int64"
      ]
     },
     "execution_count": 93,
     "metadata": {},
     "output_type": "execute_result"
    }
   ],
   "source": [
    "d3.session.value_counts(dropna=False, sort=False)"
   ]
  },
  {
   "cell_type": "code",
   "execution_count": 94,
   "metadata": {
    "ExecuteTime": {
     "end_time": "2017-08-10T19:40:58.521785Z",
     "start_time": "2017-08-10T19:40:58.517876Z"
    }
   },
   "outputs": [
    {
     "data": {
      "text/plain": [
       "7    50\n",
       "Name: sequence, dtype: int64"
      ]
     },
     "execution_count": 94,
     "metadata": {},
     "output_type": "execute_result"
    }
   ],
   "source": [
    "d3.sequence.value_counts(dropna=False, sort=False)"
   ]
  }
 ],
 "metadata": {
  "kernelspec": {
   "display_name": "Python 3",
   "language": "python",
   "name": "python3"
  },
  "language_info": {
   "codemirror_mode": {
    "name": "ipython",
    "version": 3
   },
   "file_extension": ".py",
   "mimetype": "text/x-python",
   "name": "python",
   "nbconvert_exporter": "python",
   "pygments_lexer": "ipython3",
   "version": "3.5.3"
  }
 },
 "nbformat": 4,
 "nbformat_minor": 2
}
