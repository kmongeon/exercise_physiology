{
 "cells": [
  {
   "cell_type": "markdown",
   "metadata": {},
   "source": [
    "# Longitudinal examination of the bone mechanostat theory in children\n",
    "\n",
    "\n",
    "\n",
    "Izabella A. Ludwa, Kevin Mongeon, Bareket Falk and Panagiota Klentrou\n",
    "\n",
    "\n"
   ]
  },
  {
   "cell_type": "code",
   "execution_count": 78,
   "metadata": {
    "ExecuteTime": {
     "end_time": "2017-08-10T19:40:43.580578Z",
     "start_time": "2017-08-10T19:40:43.572666Z"
    }
   },
   "outputs": [],
   "source": [
    "import os\n",
    "import sys\n",
    "import shutil\n",
    "import pandas\n",
    "import numpy\n",
    "import ipystata\n",
    "import matplotlib.pyplot as plt\n",
    "\n",
    "from ipystata.config import config_stata, config_syntax_higlight\n",
    "config_stata('/home/kmongeon/research/stata14/stata-mp',force_batch=True)\n",
    "\n",
    "pandas.options.display.max_columns = 100\n",
    "\n"
   ]
  },
  {
   "cell_type": "code",
   "execution_count": 79,
   "metadata": {
    "ExecuteTime": {
     "end_time": "2017-08-10T19:40:44.937061Z",
     "start_time": "2017-08-10T19:40:44.923068Z"
    }
   },
   "outputs": [],
   "source": [
    "d1 = pandas.read_csv('./data/IzzyLongitudinalWorkingMarch2015.csv')\n",
    "d2 = pandas.read_csv('./data/torque.csv')\n",
    "d3 = pandas.read_csv('./data/Spring_2013_knee_extension.csv')\n"
   ]
  },
  {
   "cell_type": "markdown",
   "metadata": {},
   "source": [
    "## IzzyLongitudinalWorkingMarch2015"
   ]
  },
  {
   "cell_type": "code",
   "execution_count": 80,
   "metadata": {
    "ExecuteTime": {
     "end_time": "2017-08-10T19:40:45.906037Z",
     "start_time": "2017-08-10T19:40:45.901807Z"
    }
   },
   "outputs": [
    {
     "data": {
      "text/plain": [
       "Index(['ID', 'Session', 'Sequence', 'Gender', 'Age', 'Height', 'Seated Height',\n",
       "       'Leg Length', 'Weight', 'BF_Slaughter', 'BIA_PBF', 'BMI', 'LBM (kg)',\n",
       "       'Years from aPHV', 'Age_At_PHV', 'Mat_Offset_New', 'Bone_Age', 'Tanner',\n",
       "       'Menarche', 'Age_First_Period', 'Period_Frequency', 'Medications',\n",
       "       'Vitamins', 'Fracture', 'Radius_SOS', 'Radius_Z', 'Tibial_SOS',\n",
       "       'Tibial_Z', 'Wrist_Flexion_Best', 'Grip_Strength_Best',\n",
       "       'Forearm_Length', 'ForeArm_Lean_CSA', 'Forearm_US_CSA', 'Anterior_CSA',\n",
       "       'Anterior Radius', 'Ant_Rad_CSA', 'Anterior Ulna', 'Ant_Ulna_CSA',\n",
       "       'Posterior', 'Post_CSA', 'Tibialis Anterior', 'NTx', 'Creatinine',\n",
       "       'NTx/Creat', 'Caloric Intake', 'Calcium', 'Vit D', 'Vit D.1',\n",
       "       'Caffeine', 'tot sedetary', 'tot light', 'tot mod', 'tot hard',\n",
       "       'tot v hard', 'tot mvh', 'Total time', 'Godin_PA', 'PAQ_TOTAL_SCORE',\n",
       "       'PAQ-PRVNT', 'Training_Data', 'Upper Arm_Length', 'Arm_Circumference',\n",
       "       'Arm_Lean_CSA', 'Thigh_Length', 'Thigh_Circumference', 'Thigh_Lean_CSA',\n",
       "       'Biceps Brachii', 'Biceps Brachii.1', 'Quads', 'Quads.1'],\n",
       "      dtype='object')"
      ]
     },
     "execution_count": 80,
     "metadata": {},
     "output_type": "execute_result"
    }
   ],
   "source": [
    "d1.columns"
   ]
  },
  {
   "cell_type": "code",
   "execution_count": 81,
   "metadata": {
    "ExecuteTime": {
     "end_time": "2017-08-10T19:40:46.581264Z",
     "start_time": "2017-08-10T19:40:46.577902Z"
    },
    "collapsed": true
   },
   "outputs": [],
   "source": [
    "d1 = d1[['ID', 'Session', 'Sequence', 'Gender', 'Radius_SOS', 'Tibial_SOS', 'Grip_Strength_Best', 'NTx/Creat', 'Mat_Offset_New', 'tot mvh']]"
   ]
  },
  {
   "cell_type": "code",
   "execution_count": 82,
   "metadata": {
    "ExecuteTime": {
     "end_time": "2017-08-10T19:40:47.034416Z",
     "start_time": "2017-08-10T19:40:47.031003Z"
    }
   },
   "outputs": [],
   "source": [
    "d1 = d1.rename(columns={'ID': 'id', 'Session': 'session', 'Sequence': 'sequence'\n",
    "                   , 'Gender': 'gender', 'Radius_SOS': 'rsos', 'Tibial_SOS': 'tsos'\n",
    "                   , 'Grip_Strength_Best': 'grip', 'NTx/Creat': 'ntxc', 'Mat_Offset_New': 'matu', 'tot mvh': 'mvh'})"
   ]
  },
  {
   "cell_type": "code",
   "execution_count": 83,
   "metadata": {
    "ExecuteTime": {
     "end_time": "2017-08-10T19:40:47.392356Z",
     "start_time": "2017-08-10T19:40:47.388104Z"
    }
   },
   "outputs": [
    {
     "data": {
      "text/plain": [
       "1    244\n",
       "2    183\n",
       "Name: session, dtype: int64"
      ]
     },
     "execution_count": 83,
     "metadata": {},
     "output_type": "execute_result"
    }
   ],
   "source": [
    "d1.session.value_counts(dropna=False, sort=False)"
   ]
  },
  {
   "cell_type": "code",
   "execution_count": 84,
   "metadata": {
    "ExecuteTime": {
     "end_time": "2017-08-10T19:40:47.797941Z",
     "start_time": "2017-08-10T19:40:47.794841Z"
    }
   },
   "outputs": [
    {
     "data": {
      "text/plain": [
       "Index(['ID', 'Biodex_ID', 'Sequence', 'Session', 'New_Sequence', 'Gender',\n",
       "       'Visit_One', 'Visit_Two', 'DOB', 'Age (days)', 'Age (years)', 'ptiso',\n",
       "       'pt60', 'pt240'],\n",
       "      dtype='object')"
      ]
     },
     "execution_count": 84,
     "metadata": {},
     "output_type": "execute_result"
    }
   ],
   "source": [
    "d2.columns"
   ]
  },
  {
   "cell_type": "code",
   "execution_count": 86,
   "metadata": {
    "ExecuteTime": {
     "end_time": "2017-08-10T19:40:48.887095Z",
     "start_time": "2017-08-10T19:40:48.882515Z"
    }
   },
   "outputs": [
    {
     "data": {
      "text/plain": [
       "1    44\n",
       "2    38\n",
       "3    78\n",
       "4    71\n",
       "5    71\n",
       "6    74\n",
       "7    51\n",
       "Name: sequence, dtype: int64"
      ]
     },
     "execution_count": 86,
     "metadata": {},
     "output_type": "execute_result"
    }
   ],
   "source": [
    "d1.sequence.value_counts(dropna=False, sort=False)"
   ]
  },
  {
   "cell_type": "markdown",
   "metadata": {},
   "source": [
    "# torque"
   ]
  },
  {
   "cell_type": "code",
   "execution_count": 85,
   "metadata": {
    "ExecuteTime": {
     "end_time": "2017-08-10T19:40:48.233816Z",
     "start_time": "2017-08-10T19:40:48.230624Z"
    },
    "collapsed": true
   },
   "outputs": [],
   "source": [
    "d2 = d2[['ID', 'Session', 'Sequence', 'New_Sequence', 'Gender', 'ptiso']]"
   ]
  },
  {
   "cell_type": "code",
   "execution_count": 87,
   "metadata": {
    "ExecuteTime": {
     "end_time": "2017-08-10T19:40:54.849399Z",
     "start_time": "2017-08-10T19:40:54.846054Z"
    },
    "collapsed": true
   },
   "outputs": [],
   "source": [
    "d2 = d2.rename(columns={'ID': 'id', 'Session': 'session', 'Sequence': 'sequence'\n",
    "                   , 'Gender': 'gender', 'New_Sequence': 'new_sequence', 'ptiso': 'ptiso'})"
   ]
  },
  {
   "cell_type": "code",
   "execution_count": 88,
   "metadata": {
    "ExecuteTime": {
     "end_time": "2017-08-10T19:40:55.267408Z",
     "start_time": "2017-08-10T19:40:55.262860Z"
    }
   },
   "outputs": [
    {
     "data": {
      "text/plain": [
       "0     40\n",
       "1    196\n",
       "2    185\n",
       "Name: session, dtype: int64"
      ]
     },
     "execution_count": 88,
     "metadata": {},
     "output_type": "execute_result"
    }
   ],
   "source": [
    "d2.session.value_counts(dropna=False, sort=False)"
   ]
  },
  {
   "cell_type": "code",
   "execution_count": 89,
   "metadata": {
    "ExecuteTime": {
     "end_time": "2017-08-10T19:40:55.806145Z",
     "start_time": "2017-08-10T19:40:55.802206Z"
    }
   },
   "outputs": [
    {
     "data": {
      "text/plain": [
       "1    124\n",
       "2    150\n",
       "3    147\n",
       "Name: sequence, dtype: int64"
      ]
     },
     "execution_count": 89,
     "metadata": {},
     "output_type": "execute_result"
    }
   ],
   "source": [
    "d2.sequence.value_counts(dropna=False, sort=False)"
   ]
  },
  {
   "cell_type": "code",
   "execution_count": 90,
   "metadata": {
    "ExecuteTime": {
     "end_time": "2017-08-10T19:40:56.234114Z",
     "start_time": "2017-08-10T19:40:56.230144Z"
    }
   },
   "outputs": [
    {
     "data": {
      "text/plain": [
       "0    40\n",
       "1    45\n",
       "2    39\n",
       "3    79\n",
       "4    71\n",
       "5    72\n",
       "6    75\n",
       "Name: new_sequence, dtype: int64"
      ]
     },
     "execution_count": 90,
     "metadata": {},
     "output_type": "execute_result"
    }
   ],
   "source": [
    "d2.new_sequence.value_counts(dropna=False, sort=False)"
   ]
  },
  {
   "cell_type": "markdown",
   "metadata": {},
   "source": [
    "# Spring_2013_knee_extension"
   ]
  },
  {
   "cell_type": "code",
   "execution_count": 91,
   "metadata": {
    "ExecuteTime": {
     "end_time": "2017-08-10T19:40:57.425507Z",
     "start_time": "2017-08-10T19:40:57.422010Z"
    }
   },
   "outputs": [
    {
     "data": {
      "text/plain": [
       "Index(['session', 'sequence', 'id', 'ptiso'], dtype='object')"
      ]
     },
     "execution_count": 91,
     "metadata": {},
     "output_type": "execute_result"
    }
   ],
   "source": [
    "d3.columns"
   ]
  },
  {
   "cell_type": "code",
   "execution_count": 92,
   "metadata": {
    "ExecuteTime": {
     "end_time": "2017-08-10T19:40:57.696695Z",
     "start_time": "2017-08-10T19:40:57.693814Z"
    },
    "collapsed": true
   },
   "outputs": [],
   "source": [
    "d3 = d3[['id', 'session', 'sequence', 'ptiso']]"
   ]
  },
  {
   "cell_type": "code",
   "execution_count": 93,
   "metadata": {
    "ExecuteTime": {
     "end_time": "2017-08-10T19:40:58.112715Z",
     "start_time": "2017-08-10T19:40:58.108614Z"
    }
   },
   "outputs": [
    {
     "data": {
      "text/plain": [
       "1    50\n",
       "Name: session, dtype: int64"
      ]
     },
     "execution_count": 93,
     "metadata": {},
     "output_type": "execute_result"
    }
   ],
   "source": [
    "d3.session.value_counts(dropna=False, sort=False)"
   ]
  },
  {
   "cell_type": "code",
   "execution_count": 94,
   "metadata": {
    "ExecuteTime": {
     "end_time": "2017-08-10T19:40:58.521785Z",
     "start_time": "2017-08-10T19:40:58.517876Z"
    }
   },
   "outputs": [
    {
     "data": {
      "text/plain": [
       "7    50\n",
       "Name: sequence, dtype: int64"
      ]
     },
     "execution_count": 94,
     "metadata": {},
     "output_type": "execute_result"
    }
   ],
   "source": [
    "d3.sequence.value_counts(dropna=False, sort=False)"
   ]
  }
 ],
 "metadata": {
  "kernelspec": {
   "display_name": "Python 3",
   "language": "python",
   "name": "python3"
  },
  "language_info": {
   "codemirror_mode": {
    "name": "ipython",
    "version": 3
   },
   "file_extension": ".py",
   "mimetype": "text/x-python",
   "name": "python",
   "nbconvert_exporter": "python",
   "pygments_lexer": "ipython3",
   "version": "3.5.3"
  }
 },
 "nbformat": 4,
 "nbformat_minor": 2
}
