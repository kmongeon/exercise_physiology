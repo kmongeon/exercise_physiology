{
 "cells": [
  {
   "cell_type": "code",
   "execution_count": 196,
   "metadata": {},
   "outputs": [],
   "source": [
    "import os\n",
    "import sys\n",
    "import shutil\n",
    "import pandas\n",
    "import numpy\n",
    "import json\n",
    "\n",
    "import ipystata\n",
    "from ipystata.config import config_stata\n",
    "config_stata('/usr/local/stata/stata-mp')\n",
    "\n",
    "pandas.set_option('display.float_format', lambda x: '%.4f' % x)\n",
    "pandas.set_option('max_columns', 200)\n",
    "pandas.set_option('max_rows', 400)\n",
    "pandas.set_option('max_colwidth', 150)\n",
    "pandas.set_option('mode.sim_interactive', True)\n",
    "pandas.set_option('colheader_justify', 'center')\n",
    "pandas.set_option('precision', 4)\n",
    "\n",
    "from IPython.display import display, display_markdown, Markdown, HTML\n",
    "# from IPython.display import display, HTML, Image, IFrame, publish_display_data, display_markdown\n",
    "# from IPython.core.interactiveshell import InteractiveShell\n",
    "# InteractiveShell.ast_node_interactivity = \"all\"\n",
    "# pandas.options.display.float_format = '{:.2f}'.format"
   ]
  },
  {
   "cell_type": "code",
   "execution_count": 218,
   "metadata": {},
   "outputs": [
    {
     "data": {
      "text/html": [
       "<div>\n",
       "<style scoped>\n",
       "    .dataframe tbody tr th:only-of-type {\n",
       "        vertical-align: middle;\n",
       "    }\n",
       "\n",
       "    .dataframe tbody tr th {\n",
       "        vertical-align: top;\n",
       "    }\n",
       "\n",
       "    .dataframe thead th {\n",
       "        text-align: right;\n",
       "    }\n",
       "</style>\n",
       "<table border=\"1\" class=\"dataframe\">\n",
       "  <thead>\n",
       "    <tr style=\"text-align: center;\">\n",
       "      <th></th>\n",
       "      <th></th>\n",
       "      <th>r</th>\n",
       "      <th>t</th>\n",
       "      <th>g</th>\n",
       "      <th>b</th>\n",
       "      <th>n</th>\n",
       "      <th>m</th>\n",
       "      <th>c</th>\n",
       "      <th>v</th>\n",
       "      <th>G</th>\n",
       "    </tr>\n",
       "    <tr>\n",
       "      <th>id</th>\n",
       "      <th>trip</th>\n",
       "      <th></th>\n",
       "      <th></th>\n",
       "      <th></th>\n",
       "      <th></th>\n",
       "      <th></th>\n",
       "      <th></th>\n",
       "      <th></th>\n",
       "      <th></th>\n",
       "      <th></th>\n",
       "    </tr>\n",
       "  </thead>\n",
       "  <tbody>\n",
       "    <tr>\n",
       "      <th rowspan=\"2\" valign=\"top\">100</th>\n",
       "      <th>1</th>\n",
       "      <td>0.1192</td>\n",
       "      <td>-0.7897</td>\n",
       "      <td>nan</td>\n",
       "      <td>-0.0412</td>\n",
       "      <td>711.8482</td>\n",
       "      <td>-0.4026</td>\n",
       "      <td>-0.0447</td>\n",
       "      <td>-0.0322</td>\n",
       "      <td>boy</td>\n",
       "    </tr>\n",
       "    <tr>\n",
       "      <th>2</th>\n",
       "      <td>0.8191</td>\n",
       "      <td>-0.5338</td>\n",
       "      <td>0.4830</td>\n",
       "      <td>0.1251</td>\n",
       "      <td>760.0939</td>\n",
       "      <td>0.0729</td>\n",
       "      <td>1.3046</td>\n",
       "      <td>-0.3233</td>\n",
       "      <td>boy</td>\n",
       "    </tr>\n",
       "  </tbody>\n",
       "</table>\n",
       "</div>"
      ],
      "text/plain": [
       "            r       t      g       b       n        m       c       v    G  \n",
       "id  trip                                                                    \n",
       "100 1    0.1192 -0.7897    nan -0.0412 711.8482 -0.4026 -0.0447 -0.0322  boy\n",
       "    2    0.8191 -0.5338 0.4830  0.1251 760.0939  0.0729  1.3046 -0.3233  boy"
      ]
     },
     "execution_count": 218,
     "metadata": {},
     "output_type": "execute_result"
    }
   ],
   "source": [
    "dm = pandas.read_csv('out/data_analysis.csv')\n",
    "\n",
    "de = dm.copy()\n",
    "de = de[['id', 'trip', 'st_rsos', 'st_tsos', 'st_grip', 'st_biodex', 'ntxc', 'st_matu', 'st_calo', 'st_mvh', 'gender']]\n",
    "de = de.set_index(['id', 'trip'])\n",
    "\n",
    "de = de.rename(columns={'st_rsos': 'r'})\n",
    "de = de.rename(columns={'st_tsos': 't'})\n",
    "de = de.rename(columns={'st_grip': 'g'})\n",
    "de = de.rename(columns={'st_biodex': 'b'})\n",
    "de = de.rename(columns={'ntxc': 'n'})\n",
    "de = de.rename(columns={'st_matu': 'm'})\n",
    "de = de.rename(columns={'st_calo': 'c'})\n",
    "de = de.rename(columns={'st_mvh': 'v'})\n",
    "de = de.rename(columns={'gender': 'G'})\n",
    "\n",
    "de.head(2)"
   ]
  },
  {
   "cell_type": "code",
   "execution_count": 222,
   "metadata": {},
   "outputs": [],
   "source": [
    "%%stata --data de --out dr -np\n",
    "\n",
    "global R \"r <- g@k1 m@k2 n@k3 M1[id]@1 _cons@kk\"\n",
    "global T \"t <- b@k1 m@k2 n@k3 M1[id]@1 _cons@kk\"\n",
    "global M \"g b <- m@k4 c@k5 M2[id]@1\"\n",
    "global C \"covstruct(_lexogenous, diagonal) nocapslatent latent(M1 M2) cov(e.r*e.t) cov(e.g*e.b) cov(M1[id]*M2[id]) \"\n",
    "global O \"nohead nolog\"\n",
    "\n",
    "gsem ($R) ($T) ($M), $C $O\n",
    "estimates save out/table2, replace\n",
    "regsave using out/table2, replace addlabel(M, all)\n",
    "\n",
    "gsem ($R) ($T) ($M) if G == \"boy\", $C $O\n",
    "estimates save out/table2, append\n",
    "regsave using out/table2, append addlabel(M, boys)\n",
    "\n",
    "gsem ($R) ($T) ($M) if G == \"girl\", $C $O\n",
    "estimates save out/table2, append\n",
    "regsave using out/table2, append addlabel(M, girls)\n",
    "\n",
    "use out/table2, clear\n",
    "sort M"
   ]
  },
  {
   "cell_type": "code",
   "execution_count": 239,
   "metadata": {},
   "outputs": [
    {
     "data": {
      "text/plain": [
       "[Index(['coef', 'stderr', 'N'], dtype='object'),\n",
       " Index(['cov(e.b,e.g):_cons', 'cov(e.t,e.r):_cons', 'var(e.b):_cons',\n",
       "        'var(e.g):_cons', 'var(e.t):_cons', 'var(e.r):_cons',\n",
       "        'cov(M2[id],M1[id]):_cons', 'var(M2[id]):_cons', 'var(M1[id]):_cons',\n",
       "        'b:_cons', 'b:M2[id]', 'b:c', 'b:m', 'g:_cons', 'g:M2[id]', 'g:c',\n",
       "        'g:m', 't:_cons', 't:M1[id]', 't:n', 't:m', 't:b', 'r:_cons',\n",
       "        'r:M1[id]', 'r:n', 'r:m', 'r:g'],\n",
       "       dtype='object', name='var')]"
      ]
     },
     "execution_count": 239,
     "metadata": {},
     "output_type": "execute_result"
    }
   ],
   "source": [
    "dt = dr.copy()\n",
    "dt = dt.set_index(['M', 'var'])\n",
    "dt = dt.T\n",
    "\n",
    "RA = dt['all']\n",
    "RB = dt['boys']\n",
    "RG = dt['girls']\n",
    "RA.axes"
   ]
  },
  {
   "cell_type": "code",
   "execution_count": 242,
   "metadata": {},
   "outputs": [
    {
     "data": {
      "text/markdown": [
       "\n",
       "\n",
       "a is   0.2923\n",
       "\n"
      ],
      "text/plain": [
       "<IPython.core.display.Markdown object>"
      ]
     },
     "execution_count": 242,
     "metadata": {},
     "output_type": "execute_result"
    }
   ],
   "source": [
    "Markdown(\n",
    "\"\"\"\n",
    "\n",
    "a is {a:8.4f}\n",
    "\n",
    "\"\"\"\n",
    ".format\n",
    "    (\n",
    "a = RA['r:g']['coef']\n",
    "    )\n",
    "        )\n"
   ]
  },
  {
   "cell_type": "code",
   "execution_count": null,
   "metadata": {},
   "outputs": [],
   "source": []
  }
 ],
 "metadata": {
  "kernelspec": {
   "display_name": "Python 3",
   "language": "python",
   "name": "python3"
  },
  "language_info": {
   "codemirror_mode": {
    "name": "ipython",
    "version": 3
   },
   "file_extension": ".py",
   "mimetype": "text/x-python",
   "name": "python",
   "nbconvert_exporter": "python",
   "pygments_lexer": "ipython3",
   "version": "3.6.3"
  }
 },
 "nbformat": 4,
 "nbformat_minor": 2
}
