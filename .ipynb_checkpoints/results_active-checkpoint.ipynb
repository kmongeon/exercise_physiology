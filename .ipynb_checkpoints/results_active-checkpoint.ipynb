{
 "cells": [
  {
   "cell_type": "markdown",
   "metadata": {},
   "source": [
    "## Empirical results"
   ]
  },
  {
   "cell_type": "code",
   "execution_count": 1,
   "metadata": {},
   "outputs": [
    {
     "name": "stdout",
     "output_type": "stream",
     "text": [
      "IPyStata is loaded in batch mode.\n"
     ]
    }
   ],
   "source": [
    "import os\n",
    "import sys\n",
    "import shutil\n",
    "import pandas\n",
    "import numpy\n",
    "import json\n",
    "\n",
    "import ipystata\n",
    "from ipystata.config import config_stata\n",
    "config_stata('/usr/local/stata/stata-mp')\n",
    "\n",
    "pandas.set_option('display.float_format', lambda x: '%.4f' % x)\n",
    "pandas.set_option('max_columns', 200)\n",
    "pandas.set_option('max_rows', 400)\n",
    "pandas.set_option('max_colwidth', 150)\n",
    "pandas.set_option('mode.sim_interactive', True)\n",
    "pandas.set_option('colheader_justify', 'center')\n",
    "pandas.set_option('precision', 4)\n",
    "\n",
    "from IPython.display import display, display_markdown, Markdown, HTML\n",
    "# from IPython.display import display, HTML, Image, IFrame, publish_display_data, display_markdown\n",
    "# from IPython.core.interactiveshell import InteractiveShell\n",
    "# InteractiveShell.ast_node_interactivity = \"all\"\n",
    "# pandas.options.display.float_format = '{:.2f}'.format"
   ]
  },
  {
   "cell_type": "code",
   "execution_count": 2,
   "metadata": {},
   "outputs": [
    {
     "name": "stdout",
     "output_type": "stream",
     "text": [
      "/mnt/intel1200/projects/git/exercise_physiology\n"
     ]
    }
   ],
   "source": [
    "%cd exercise_physiology"
   ]
  },
  {
   "cell_type": "code",
   "execution_count": 3,
   "metadata": {},
   "outputs": [
    {
     "data": {
      "text/html": [
       "<div>\n",
       "<style>\n",
       "    .dataframe thead tr:only-child th {\n",
       "        text-align: right;\n",
       "    }\n",
       "\n",
       "    .dataframe thead th {\n",
       "        text-align: left;\n",
       "    }\n",
       "\n",
       "    .dataframe tbody tr th {\n",
       "        vertical-align: top;\n",
       "    }\n",
       "</style>\n",
       "<table border=\"1\" class=\"dataframe\">\n",
       "  <thead>\n",
       "    <tr style=\"text-align: center;\">\n",
       "      <th></th>\n",
       "      <th></th>\n",
       "      <th>r</th>\n",
       "      <th>t</th>\n",
       "      <th>g</th>\n",
       "      <th>b</th>\n",
       "      <th>n</th>\n",
       "      <th>m</th>\n",
       "      <th>c</th>\n",
       "      <th>v</th>\n",
       "      <th>G</th>\n",
       "    </tr>\n",
       "    <tr>\n",
       "      <th>id</th>\n",
       "      <th>trip</th>\n",
       "      <th></th>\n",
       "      <th></th>\n",
       "      <th></th>\n",
       "      <th></th>\n",
       "      <th></th>\n",
       "      <th></th>\n",
       "      <th></th>\n",
       "      <th></th>\n",
       "      <th></th>\n",
       "    </tr>\n",
       "  </thead>\n",
       "  <tbody>\n",
       "    <tr>\n",
       "      <th rowspan=\"2\" valign=\"top\">100</th>\n",
       "      <th>1</th>\n",
       "      <td>0.1192</td>\n",
       "      <td>-0.7897</td>\n",
       "      <td>nan</td>\n",
       "      <td>-0.0412</td>\n",
       "      <td>0.6525</td>\n",
       "      <td>-0.4026</td>\n",
       "      <td>-0.0447</td>\n",
       "      <td>-0.0322</td>\n",
       "      <td>boy</td>\n",
       "    </tr>\n",
       "    <tr>\n",
       "      <th>2</th>\n",
       "      <td>0.8191</td>\n",
       "      <td>-0.5338</td>\n",
       "      <td>0.4830</td>\n",
       "      <td>0.1251</td>\n",
       "      <td>0.8355</td>\n",
       "      <td>0.0729</td>\n",
       "      <td>1.3046</td>\n",
       "      <td>-0.3233</td>\n",
       "      <td>boy</td>\n",
       "    </tr>\n",
       "  </tbody>\n",
       "</table>\n",
       "</div>"
      ],
      "text/plain": [
       "            r       t      g       b      n       m       c       v    G  \n",
       "id  trip                                                                  \n",
       "100 1    0.1192 -0.7897    nan -0.0412 0.6525 -0.4026 -0.0447 -0.0322  boy\n",
       "    2    0.8191 -0.5338 0.4830  0.1251 0.8355  0.0729  1.3046 -0.3233  boy"
      ]
     },
     "execution_count": 3,
     "metadata": {},
     "output_type": "execute_result"
    }
   ],
   "source": [
    "dm = pandas.read_csv('out/data_analysis.csv')\n",
    "\n",
    "de = dm.copy()\n",
    "de = de[['id', 'trip', 'st_rsos', 'st_tsos', 'st_grip', 'st_biodex', 'st_ntxc', 'st_matu', 'st_calo', 'st_mvh', 'gender']]\n",
    "de = de.set_index(['id', 'trip'])\n",
    "\n",
    "de = de.rename(columns={'st_rsos': 'r'})\n",
    "de = de.rename(columns={'st_tsos': 't'})\n",
    "de = de.rename(columns={'st_grip': 'g'})\n",
    "de = de.rename(columns={'st_biodex': 'b'})\n",
    "de = de.rename(columns={'st_ntxc': 'n'})\n",
    "de = de.rename(columns={'st_matu': 'm'})\n",
    "de = de.rename(columns={'st_calo': 'c'})\n",
    "de = de.rename(columns={'st_mvh': 'v'})\n",
    "de = de.rename(columns={'gender': 'G'})\n",
    "\n",
    "de.to_csv('out/de.csv')\n",
    "de.head(2)"
   ]
  },
  {
   "cell_type": "code",
   "execution_count": 4,
   "metadata": {},
   "outputs": [
    {
     "name": "stdout",
     "output_type": "stream",
     "text": [
      "\n",
      "file out/table2.dta saved\n",
      "file out/table2.dta saved\n",
      "file out/table2.dta saved\n",
      ". *use out/table2, clear\n"
     ]
    }
   ],
   "source": [
    "%%stata --data de --out dr\n",
    "\n",
    "global R \"r <- g@k1 m@k2 n@k3 M1[id]@1 _cons@kk\"\n",
    "global T \"t <- b@k1 m@k2 n@k3 M1[id]@1 _cons@kk\"\n",
    "global M \"g b <- m@k4 c@k5 M2[id]@1\"\n",
    "global C \"covstruct(_lexogenous, diagonal) nocapslatent latent(M1 M2) cov(e.r*e.t) cov(e.g*e.b) cov(M1[id]*M2[id]) \"\n",
    "global O \"nohead nolog\"\n",
    "\n",
    "global RS \"tstat pval ci level(95)\" \n",
    "\n",
    "quietly gsem ($R) ($T) ($M), $C $O\n",
    "estimates store ALL\n",
    "regsave using out/table2, replace addlabel(M, all) tstat pval ci level(95)\n",
    "\n",
    "quietly gsem ($R) ($T) ($M) if G == \"boy\", $C $O\n",
    "estimates store BOYS\n",
    "regsave using out/table2, append addlabel(M, boys) tstat pval ci level(95)\n",
    "\n",
    "quietly gsem ($R) ($T) ($M) if G == \"girl\", $C $O\n",
    "estimates store GIRLS\n",
    "regsave using out/table2, append addlabel(M, girls) tstat pval ci level(95)\n",
    "\n",
    "*estimates table ALL BOYS GIRLS, star(.10 .05 .01) b(%8.2f)\n",
    "*use out/table2, clear\n",
    "*sort M"
   ]
  },
  {
   "cell_type": "code",
   "execution_count": null,
   "metadata": {},
   "outputs": [],
   "source": [
    "%%stata --data de \n",
    "\n",
    "gen B = 1 if G ==\"boy\"\n",
    "gen F = 1 if G ==\"girl\"\n",
    "\n",
    "gen Br = B*r\n",
    "gen Bt = B*t\n",
    "gen Bg = B*g\n",
    "gen Bb = B*b\n",
    "\n",
    "gen Fr = F*r\n",
    "gen Ft = F*t\n",
    "gen Fg = F*g\n",
    "gen Fb = F*b\n",
    "\n",
    "gsem ///\n",
    "///\n",
    "(Br <- Bg@Bk1 m@Bk2 n@Bk3 M1[id]@1 _cons@Bkk) ///\n",
    "(Bt <- Bb@Bk1 m@Bk2 n@Bk3 M1[id]@1 _cons@Bkk) ///\n",
    "(Bg Bb <- m@Bk4 n@Bk5 M2[id]@1 _cons@Bkm) ///\n",
    "///\n",
    "(Fr <- Fg@Fk1 m@Fk2 n@Fk3 M1[id]@1 _cons@Fkk) ///\n",
    "(Ft <- Fb@Fk1 m@Fk2 n@Fk3 M1[id]@1 _cons@Fkk) ///\n",
    "(Fg Fb <- m@Fk4 n@Fk4 M1[id]@1 _cons@Fkk) ///\n",
    ", nocapslatent latent(M1 M2) nohead nolog coeflegend\n",
    "\n",
    "estimates save out/BOTH, replace\n",
    "regsave using out/BOTH, replace addlabel(M, BOTH) tstat pval ci level(95)\n",
    "\n",
    "lincom  _b[Ft:m] - _b[Bt:m]\n"
   ]
  },
  {
   "cell_type": "code",
   "execution_count": null,
   "metadata": {},
   "outputs": [],
   "source": [
    "%%stata --data de\n",
    "\n",
    "global R \"r <- g@k1 m@k2 n@k3 M1[id]@1 _cons@kk\"\n",
    "global T \"t <- b@k1 m@k2 n@k3 M1[id]@1 _cons@kk\"\n",
    "global M \"g b <- m@k4 c@k5 M2[id]@1\"\n",
    "global C \"covstruct(_lexogenous, diagonal) nocapslatent latent(M1 M2) cov(e.r*e.t) cov(e.g*e.b) cov(M1[id]*M2[id]) \"\n",
    "global O \"nohead nolog\"\n",
    "\n",
    "global RS \"tstat pval ci level(95)\" \n",
    "\n",
    "gsem ($R) ($T) ($M), $C $O coeflegend\n",
    "\n"
   ]
  },
  {
   "cell_type": "code",
   "execution_count": null,
   "metadata": {},
   "outputs": [],
   "source": [
    "dr = pandas.read_stata('out/table2.dta')\n",
    "dr = dr.set_index(['M', 'var'])\n",
    "dr = dr[['coef']]\n",
    "dr = dr.T\n",
    "dr.head()"
   ]
  },
  {
   "cell_type": "code",
   "execution_count": null,
   "metadata": {},
   "outputs": [],
   "source": [
    "RA = dr['all']\n",
    "RB = dr['boys']\n",
    "RG = dr['girls']\n",
    "\n",
    "RB.T"
   ]
  },
  {
   "cell_type": "code",
   "execution_count": null,
   "metadata": {},
   "outputs": [],
   "source": [
    "a = RA['var(M1[id]):_cons']['coef']\n",
    "b = RA['var(e.r):_cons']['coef']\n",
    "c = RA['var(e.t):_cons']['coef']\n",
    "p1 = a / (a+b)\n",
    "p2 = a / (a+c)"
   ]
  },
  {
   "cell_type": "code",
   "execution_count": null,
   "metadata": {},
   "outputs": [],
   "source": [
    "RA.T.head()"
   ]
  },
  {
   "cell_type": "code",
   "execution_count": null,
   "metadata": {},
   "outputs": [],
   "source": [
    "de = RA['r:m']['coef']\n",
    "ie = RA['g:m']['coef']*RA['r:m']['coef']\n",
    "te = de + ie\n",
    "print(de, ie, te)"
   ]
  },
  {
   "cell_type": "code",
   "execution_count": null,
   "metadata": {},
   "outputs": [],
   "source": [
    "RG.xs('coef', 0).head(20)"
   ]
  },
  {
   "cell_type": "code",
   "execution_count": null,
   "metadata": {},
   "outputs": [],
   "source": [
    "RB.xs('coef', 0).head(20)"
   ]
  },
  {
   "cell_type": "markdown",
   "metadata": {},
   "source": [
    "The estimation results are summarized in Table 2. All level-1 fixed effects and level-2 random effects were found to be significant at the 0.01 level. To facilitate straightforward comparison of the causal effects, all variables were transformed/standardized to a mean of zero and standard deviation of one. Conclusions based on non-standardized values support identical inferences. \n",
    "\n",
    "The results are consistent with the relationships postulated by the functional model of bone development. Physical maturity and nutrition influence muscle strength, which in-turn, along osteoclast activity, and physical maturity influences bone properties. Although physical maturation has both direct and indirect impacts bone properties, physical maturation and muscle strength had similar total impact. In terms of standard unit changes, the direct impact of muscle strength and \n",
    "physical maturation on bone properties was {rg} and {rm}. However, physical maturation also influenced bone properties through its impact on muscle strength. The unit impact of physical maturation on grip strength was {gm}. Therefore. the indirect impact of physical maturation on bone properties was {irm}, resulting in a total impact of {trm}. \n",
    "\n",
    "Osteoclast activity had a similar effect in boys and girls ({bn} and {gn}). The impact of physical maturation on muscle strength was {DMM} points greater for boys than girls, albeit the difference is not significant. \n"
   ]
  },
  {
   "cell_type": "code",
   "execution_count": null,
   "metadata": {},
   "outputs": [],
   "source": [
    "Markdown(\n",
    "\"\"\"\n",
    "\n",
    "Table 2 summarizes the results from the multilevel models. \n",
    "To facilitate straightforward comparison of the causal effects, all variables were transformed/standardized to a mean of zero and standard deviation of one. Conclusions based on non-standardized values were similar and support identical inferences. \n",
    "\n",
    "\"\"\"\n",
    ".format()\n",
    ")"
   ]
  },
  {
   "cell_type": "code",
   "execution_count": null,
   "metadata": {},
   "outputs": [],
   "source": []
  },
  {
   "cell_type": "markdown",
   "metadata": {},
   "source": [
    "To facilitate straightforward comparison of the causal effects, all variables were transformed/standardized to a mean of zero and standard deviation of one. Conclusions based on non-standardized values were similar and support identical inferences. The results are also presented in Figure 2. The estimated fixed (slope) effects are presented along the straight-arrowed paths, and intercepts/constant terms are within the dependent variable terms. The estimated level-1 variances are beside circle terms, the level-2 variances are within the doubled-circled terms, and the covariances are along the doubled-headed curved-arrowed paths. All variables were significant at the 0.05 level. The model equations along with detailed results and supplemental analyses are available at https://github.com/kmongeon/exercise_physiology.\n",
    "\n",
    "The constrained estimation results are consistent with the relationships postulated by the functional model of bone development. Specifically, physical maturity, nutrition, and behavioral modulators influence muscle strength, which in-turn, along osteoclast activity, and physical maturity and behavioral modulators influences bone properties  (p<0.05). Each standard deviation increase in physical maturation leads to increases in muscle strength by approximately a 0.60 standard deviations. In standard units, the impact of nutrition and physical activity on…. is 0.15 and 0.12, respectively. The bone properties equation coefficients are also interpreted as standard deviation unit changes. Note, the conditional fixed effects account for level-2 participant variances. A unit increase in osteoclast activity decreases bone SOS 0.16 units. Physical activity, physical maturation and muscle strength have positive returns. Each unit increases in physical activity increases bone SOS 0.05 units. The physical maturation and muscle strength effects are 0.31 and 0.33 standard units, respectively. Physical maturation, as well as the other muscle strength modulators, also an indirect influence on bone properties through muscle strength  (i.e., (∂bone_(i,j))/(∂〖muscle〗_(i,j) )  (∂muscle_(i,j))/(∂〖matu〗_(i,j) )=0.33×0.60=0.20). In total, the influence of physical maturation is 0.52 (= 0.33 + 0.20) standard units. \n"
   ]
  },
  {
   "cell_type": "code",
   "execution_count": null,
   "metadata": {},
   "outputs": [],
   "source": [
    "Markdown(\n",
    "\"\"\"\n",
    "\n",
    "a is {a:8.4f}\n",
    "\n",
    "\"\"\"\n",
    ".format\n",
    "    (\n",
    "a = RA['r:g']['coef']\n",
    "    )\n",
    "        )\n"
   ]
  }
 ],
 "metadata": {
  "kernelspec": {
   "display_name": "Python 3",
   "language": "python",
   "name": "python3"
  },
  "language_info": {
   "codemirror_mode": {
    "name": "ipython",
    "version": 3
   },
   "file_extension": ".py",
   "mimetype": "text/x-python",
   "name": "python",
   "nbconvert_exporter": "python",
   "pygments_lexer": "ipython3",
   "version": "3.6.3"
  }
 },
 "nbformat": 4,
 "nbformat_minor": 2
}
