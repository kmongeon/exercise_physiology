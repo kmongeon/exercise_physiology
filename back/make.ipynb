{
 "cells": [
  {
   "cell_type": "markdown",
   "metadata": {},
   "source": [
    "# Make\n",
    "* Execute analyses\n",
    "* Make manuscript files"
   ]
  },
  {
   "cell_type": "code",
   "execution_count": 1,
   "metadata": {},
   "outputs": [],
   "source": [
    "%%capture\n",
    "%reset -f\n",
    "\n",
    "%cd ./ep_pub\n",
    "%run _modules.py\n",
    "\n",
    "!rm -rf ./docs*\n",
    "!mkdir -p ./docs/table1"
   ]
  },
  {
   "cell_type": "markdown",
   "metadata": {},
   "source": [
    "## Prepare"
   ]
  },
  {
   "cell_type": "code",
   "execution_count": 2,
   "metadata": {},
   "outputs": [
    {
     "name": "stdout",
     "output_type": "stream",
     "text": [
      "Stored 'DM' (DataFrame)\n"
     ]
    }
   ],
   "source": [
    "%run './scripts/01data_prepare.ipynb'"
   ]
  },
  {
   "cell_type": "markdown",
   "metadata": {},
   "source": [
    "## Describe"
   ]
  },
  {
   "cell_type": "code",
   "execution_count": 3,
   "metadata": {},
   "outputs": [],
   "source": [
    "%%stata -np\n",
    "do ./scripts/02data_describe.do"
   ]
  },
  {
   "cell_type": "markdown",
   "metadata": {},
   "source": [
    "## Statistical analysis"
   ]
  },
  {
   "cell_type": "markdown",
   "metadata": {},
   "source": [
    "## Table 1. Descriptive statistics"
   ]
  },
  {
   "cell_type": "code",
   "execution_count": 4,
   "metadata": {},
   "outputs": [],
   "source": [
    "%%bash \n",
    "\n",
    "cp ./scripts/table1/* ./docs/table1/\n",
    "cd ./docs/table1/\n",
    "stata-mp -b do _make.do\n",
    "cp t1summary.md ../t1summary.md\n",
    "cp t1table.md ../t1table.md"
   ]
  },
  {
   "cell_type": "markdown",
   "metadata": {},
   "source": [
    "## Empirical models"
   ]
  },
  {
   "cell_type": "code",
   "execution_count": 5,
   "metadata": {},
   "outputs": [],
   "source": [
    "%%stata -np\n",
    "do ./scripts/model_all_participants.do\n",
    "do ./scripts/model_boys_girls_specific.do"
   ]
  },
  {
   "cell_type": "markdown",
   "metadata": {},
   "source": [
    "## Estimation results"
   ]
  },
  {
   "cell_type": "code",
   "execution_count": 15,
   "metadata": {},
   "outputs": [
    {
     "name": "stdout",
     "output_type": "stream",
     "text": [
      "\n",
      ". do ./scripts/table_boys_girls_general.do\n",
      "\n",
      "added scalar:\n",
      "              e(_M3v1) =  .33456022\n",
      "\n",
      "added scalar:\n",
      "              e(_M3v2) =  .13863614\n",
      "\n",
      "added scalar:\n",
      "              e(_M3v3) =  .02176992\n",
      "\n",
      "added scalar:\n",
      "              e(_M4v1) =  .33707621\n",
      "\n",
      "added scalar:\n",
      "              e(_M4v2) =  .13861122\n",
      "\n",
      "added scalar:\n",
      "              e(_M4v3) =  .01437148delimiter now ;\n",
      "unexpected end of file\n",
      "r(612);\n",
      "\n",
      "end of do-file\n",
      "r(612);\n",
      "\n",
      "end of do-file\n",
      "\n",
      "r(612);\n"
     ]
    }
   ],
   "source": [
    "%%stata\n",
    "*do ./scripts/table_all_particiapants.do\n",
    "do ./scripts/table_boys_girls_general.do\n",
    "*do ./scripts/table_boys_girls_specific.do"
   ]
  },
  {
   "cell_type": "markdown",
   "metadata": {},
   "source": [
    "Done"
   ]
  }
 ],
 "metadata": {
  "kernelspec": {
   "display_name": "Python 3",
   "language": "python",
   "name": "python3"
  },
  "language_info": {
   "codemirror_mode": {
    "name": "ipython",
    "version": 3
   },
   "file_extension": ".py",
   "mimetype": "text/x-python",
   "name": "python",
   "nbconvert_exporter": "python",
   "pygments_lexer": "ipython3",
   "version": "3.6.3"
  }
 },
 "nbformat": 4,
 "nbformat_minor": 2
}
