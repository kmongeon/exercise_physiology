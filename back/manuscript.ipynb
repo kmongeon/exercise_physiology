{
 "cells": [
  {
   "cell_type": "code",
   "execution_count": 11,
   "metadata": {},
   "outputs": [],
   "source": [
    "%%capture\n",
    "%reset -f\n",
    "from IPython.display import HTML, Markdown, Latex, Image\n",
    "%cd /mnt/intel1200/projects/git/ep_pub/docs"
   ]
  },
  {
   "cell_type": "markdown",
   "metadata": {},
   "source": [
    "# Longitudinal  examination of the bone mechanostat theory in children\n",
    "\n",
    "Izabella A. Ludwa, Kevin P. Mongeon, Bareket Falk and Panagiota Klentrou\n",
    "- Department of Kinesiology, Brock University, St. Catharines, Ontario, Canada\n",
    "- Department of Sport Management, Brock University, St. Catharines, Ontario, Canada\n",
    "\n",
    "Short Title: Functional Bone Development in Children\n",
    "\n",
    "Corresponding author: <br>\n",
    "    Panagiota (Nota) Klentrou, PhD <br>\n",
    "    Professor <br>\n",
    "    Department of Kinesiology <br>\n",
    "    Brock University <br>\n",
    "    1812 Sir Isaac Brock Way <br>\n",
    "    St. Catharines, ON Canada L2S 3A1 <br>\n",
    "    T  905 688 5550  x4538  <br>\n",
    "    F  905 984 4851 <br>\n",
    "    email: nklentrou@brocku.ca <br>\n"
   ]
  },
  {
   "cell_type": "markdown",
   "metadata": {},
   "source": [
    "## Abstract\n",
    "\n",
    "This study provides experimental evidence in support of the conceptual functional model of bone development postulating that the primary mechanical challenges to bone’s mechanostat during growth is increases in muscle force. This longitudinal study measured radial and tibial bone properties, isometric grip and knee extensors strength, and maturity in 172 children aged 8-15 years 2-3 times over a period of 3 years. Both the conceptual model and research design motivates the multilevel structural equation that explicates the relationship between strength and physical maturation on bone properties."
   ]
  },
  {
   "cell_type": "markdown",
   "metadata": {},
   "source": [
    "## Summary\n",
    "\n",
    "This study examines the Functional Model of Bone Development in peri-pubertal boys and girls. Specifically, we test the underlying relationships between muscle strength and non-mechanical factors that modulate the mechanostat effects on bone strength. The Functional model of Bone Development postulates that bone properties are regulated by a feedback loop between tissue strain and bone strength. Children and adolescents are ideal participants to examine the underlying relationships bone development because their substantive periods of physical growth force the homeostatic system to continually to adapt to external challenges ([Figure 1](./docs/fig1_bonemodel.png)). Our research design implements a mixed-longitudinal design and our empirical approach develops hierarchical structural models that accounts for latent participant effects and mediates the effects of non-mechanical factors that modulate the mechanostat effects through muscle strength. "
   ]
  },
  {
   "cell_type": "markdown",
   "metadata": {},
   "source": [
    "## Research Design and Participants\n",
    "\n",
    "The study utilized a mixed-longitudinal design. Children and adolescents aged 8-16 were recruited from schools located in Southern Ontario, Canada. Data were collected from participants annually at Brock University's Applied Physiology Laboratory. To minimize potential seasonal effects, data collection took place during the spring and fall months (Riddoch et al., 2007). The first data collection session took place in the spring of 2010 and last session in the spring of 2013. As a result, four sessions occurred during the spring and three during the fall. \n",
    "\n",
    "Each data collection session involved two participant-visits, one week apart. During the first visit, anthropometric measures were taken and isometric knee extensor strength tests were conducted. Participants also completed a questionnaire regarding potential medical concerns and physical activity habits and were provided with an accelerometer to wear and track his or her physical activity during the week between laboratory visits. Participants were also provided with a sterile collection cup for a urine sample. During the second visit, accelerometers and urine samples were collected, and grip strength tests, bone ultrasound scans, and a 24-hour recall nutritional interview were conducted. Compensation was provided at the end of the second visit.\n",
    "\n",
    "Ninety-four children or adolescents participated in the spring sessions and 86 participated in the fall sessions, resulting in 180 total participants. Of the 180 participants, 36 attended one annual session, 53 attended two, 72 attended three, and 19 attended four sessions, resulting in 434 participant-session observations. However, not all participant-sessions resulted in data available for analysis purposes. Six observations were omitted because the participant was identified to have Type 1 Diabetes, eight observations were omitted because the participant suffered a fracture, 11 observations were omitted because the participant was identified as obese, and 3 observations were omitted because the participant missed the second visit. Grip-strength measurements were not taken during the Fall 2010 season. Therefore, 43 observations do not include a grip-strength measurement. Accelerometer scores are unavailable for 108 observations in which a minimum of 10 hours per day for 3 weekdays and one weekend day was recorded, and Ntx/creatine levels are unavailable for 29 observations for which the participant did not provide a urine sample. \n",
    "\n",
    "The data set available for analysis consists 406 participant-session observations, of which 306 observations include grip strength measurements, 289 include accelerometer scores, and 376 include Ntx/creatine levels. "
   ]
  },
  {
   "cell_type": "markdown",
   "metadata": {},
   "source": [
    "## Statistical analysis"
   ]
  },
  {
   "cell_type": "code",
   "execution_count": 16,
   "metadata": {},
   "outputs": [
    {
     "data": {
      "text/markdown": [
       "\n",
       "\n",
       "\n",
       "\n",
       "\n",
       "The repeated sampling of participants resulted in a hierarchical data set that consisted of within (level 1) and between (level 2) measurement variations. Table 1 outlines the variables used in the analysis, their means, and their standard deviations within and between participants. Shapiro-Wilk's tests did not reject the null hypothesis that the radial and tibial bone property distributions are normally distribution. Radial SOS measured an average of 128.67 points greater than tibial SOS (p=0.00). Girls, on average, has greater bone property measurements than boys; radial SOS by 19.50 points (p=0.05) and tibial SOS 22.57 points (p=0.04). \n",
       "\n",
       "The bone property variances exhibited two distinct characteristics. One is that notable between and within variances existed. Another is that their was greater variation across participants (i.e., between) than across time (i.e., within). The standard deviation of radial SOS measurements across participants (i.e., between) was 86 m/s compared to 51 m/s. The across and with participant standard deviation of tibial SOS was 96 and 50 m/s, respectively. Each independent variable also had a greater between compared to within variance to suggest that a fixed-participant estimation procedure may lead to considerable efficiency loss and a random-participant model is appropriate.\n"
      ],
      "text/plain": [
       "<IPython.core.display.Markdown object>"
      ]
     },
     "execution_count": 16,
     "metadata": {},
     "output_type": "execute_result"
    }
   ],
   "source": [
    "Markdown('t1summary.md')"
   ]
  },
  {
   "cell_type": "markdown",
   "metadata": {},
   "source": [
    "### Table 1. Descriptive statistics"
   ]
  },
  {
   "cell_type": "code",
   "execution_count": 17,
   "metadata": {},
   "outputs": [
    {
     "data": {
      "text/markdown": [
       "\n",
       "\n",
       "\n",
       "\n",
       "\n",
       "\n",
       "| Variable      | Mean                 | Standard deviation  | Standard deviation within  | Standard deviation between   |          \n",
       "|:--------------|------------------:|-------------------:|-------------------:|-------------------:|\n",
       "| Radial SOS    | 3816.08 | 100.01 | 51.45 | 86.03 |\n",
       "| Tibial SOS    | 3687.41 | 109.42 | 49.82 | 96.75 |\n",
       "| Grip strength | 23.43 | 7.40 | 3.21 | 7.00 |\n",
       "| Knee extensor | 131.48 | 57.73 | 22.32 | 56.62 |\n",
       "| NTX creatine  | 539.82 | 263.65 | 169.87 | 213.75 |\n",
       "| Maturity offset | -0.86 | 2.02 | 0.88 | 1.92 |\n",
       "| Energy intake | 1593.43 | 479.51 | 297.62 | 369.99 |\n",
       "| Godin PA      | 73.78 | 39.60 | 24.84 | 32.86 |\n",
       "| PVRNT         | 0.10 | 0.30 | 0.21 | 0.24 |\n",
       "| BMI           | 19.54 | 3.66 | 1.19 | 3.60 |\n",
       "| Bone age      | 12.02 | 2.34 | 1.10 | 2.21 |\n"
      ],
      "text/plain": [
       "<IPython.core.display.Markdown object>"
      ]
     },
     "execution_count": 17,
     "metadata": {},
     "output_type": "execute_result"
    }
   ],
   "source": [
    "Markdown('t1table.md')"
   ]
  },
  {
   "cell_type": "markdown",
   "metadata": {},
   "source": [
    "### Empirical model\n",
    "\n",
    "The functional model of bone development provides the conceptual framework to model bone property changes. Rather than a direct causal effect between modulators and bone properties, the functional model of bone development postulates that modulators inflence muscle strength, which in turn influences bone properties (see Figure 1). A multilevel structural equation model  (i.e., SEM) was developed to test the intrinusic relationships between modulators, muscle strength, and bone properties. \n",
    "\n",
    "In brief, SEM is a multivariate statistical technique used to estimate a system of equations and test hypotheses about the relationships among variables. To do so, SEM explicates the direct relationships between observed variables and the covariance relationships between unobserved variables. Models were constructed using Stata 14’s Generalized Structural Equation package (see Kaplan, 2008; Kline, 2015 for an overview of structural equation modeling). The mediated models attempt to disentangle average effects on bone properties into effects that directly impact bone properties and effects that indirectly arise through muscle strength to impact bone properties. The general SEM to describe bone property changes can be expressed as\n",
    "\n",
    "$$\n",
    "\\begin{align}\n",
    "\\mathbf{Y_{i,t}} \n",
    "&=  \n",
    "\\beta_0 \\mathbf{\\iota} + \\mathbf{M_{i,t}'}\\beta_1 +  \\Theta  \\mathbf{Z_{i,t}} \\mathbf{\\iota}  + \\gamma_i \\mathbf{\\iota} + \\epsilon_{i,t} \\\\\n",
    "\\mathbf{M_{i,t}} \n",
    "&= \n",
    " \\Omega W_{i,t}' \\mathbf{\\iota} \\ + \\delta_i \\mathbf{\\iota} + \\mu_{i,t} \\\\\n",
    "\\end{align}\n",
    "$$\n",
    "\n",
    "The $\\mathbf{Y_{i,t}}$ denotes $i^{th}$ participant's bone property measurement on the $t^{th}$ occasion, and the $\\mathbf{M_{i,t}}$ term donotes his or her muscle strength measurement. The $\\mathbf{Z_{i,t}}$ and $\\mathbf{W_{i,t}}$ terms are matricies of modulators and control variables that potentials influence bone property or muscle strength changes. The $\\beta$ and $\\Omega$ terms denote the unknown fixed parameters, the $\\epsilon_{i,t}$ and $\\mu_{i,t}$ terms denote the unobserved within-participant (level-1) residuals, and the $\\gamma_{i}$ term denotes the unobserved random participant-effects (level 2). The random participant-effects are assumed to be normally distributed with a mean of zero and independent of the covariates. \n",
    "\n",
    "\n",
    "In the case of two bone property and muscle strength measurements, the model can be expressed as \n",
    "$\\mathbf{Y_{i,t}} = \n",
    "\\begin{bmatrix}\n",
    "    {y_1}_{i,t}  \\\\\n",
    "    {y_2}_{i,t} \n",
    "\\end{bmatrix}$\n",
    ", where ${y_1}_{i,t}$ and ${y_2}_{i,t}$ denote radial SOS and tibial SOS measurements, and \n",
    "$\\mathbf{M_{i,t}} =\n",
    "\\begin{bmatrix}\n",
    "    {m_1}_{i,t}  \\\\\n",
    "    {m_2}_{i,t} \n",
    "\\end{bmatrix}$\n",
    ", where ${m_1}_{i,t}$ and ${m_2}_{i,t}$ denote the isometric grip strength and knee extensor measurements. In the two dimensional case $ \\epsilon_{i,t} = \\begin{bmatrix}\n",
    "    {\\epsilon_1}_{i,t}  \\\\\n",
    "    {\\epsilon_2}_{i,t}\n",
    "\\end{bmatrix}\n",
    ", \\hspace{2mm}\n",
    "\\mu_{i,t} =\n",
    "\\begin{bmatrix}\n",
    "    {\\mu_1}_{i,t}  \\\\\n",
    "    {\\mu_2}_{i,t}\n",
    "\\end{bmatrix}$ and $\\Sigma\n",
    "= \n",
    "\\begin{bmatrix}\n",
    "    \\sigma^2_{\\epsilon_1} & \\sigma_{\\epsilon_1, \\epsilon_2}  \\\\\n",
    "    \\sigma_{\\epsilon_2, \\epsilon_1} & \\sigma^2_{\\epsilon_2}  \\\\\n",
    "\\end{bmatrix} \n",
    ", \\hspace{2mm}\n",
    "\\Psi\n",
    "= \n",
    "\\begin{bmatrix}\n",
    "    \\sigma^2_{\\mu_1} & \\sigma_{\\mu_1, \\mu_2}  \\\\\n",
    "    \\sigma_{\\mu_2, \\mu_1} & \\sigma^2_{\\mu_2}  \\\\\n",
    "\\end{bmatrix} $, where $\\Sigma$ denotes the variance-covariance matrix between the bone property residuals and $\\Psi$ denotes the variance-covariance matrix between the muscle strength residuals. The $\n",
    "\\iota_{i,t} =\n",
    "\\begin{bmatrix}\n",
    "    1  \\\\\n",
    "    1\n",
    "\\end{bmatrix}$ term ensures the matricies conform. \n",
    "\n",
    "\n",
    "\n",
    "\n"
   ]
  },
  {
   "cell_type": "markdown",
   "metadata": {},
   "source": [
    "## Empirical results"
   ]
  },
  {
   "cell_type": "markdown",
   "metadata": {},
   "source": [
    "## Make models"
   ]
  },
  {
   "cell_type": "markdown",
   "metadata": {},
   "source": [
    "## Table 2. Functional model of bone development test results."
   ]
  },
  {
   "cell_type": "code",
   "execution_count": 21,
   "metadata": {},
   "outputs": [
    {
     "data": {
      "text/html": [
       "<table border=\"0\" width=\"*\">\n",
       "<caption>Table 2. Functional model of bone development test results.</caption>\n",
       "<tr><td colspan=9><hr></td></tr>\n",
       "<tr><td>                         </td><td>       (1)              </td><td>                        </td><td>                        </td><td>                        </td><td>       (2)              </td><td>                        </td><td>                        </td><td>                        </td></tr>\n",
       "<tr><td>                         </td><td>   General              </td><td>                        </td><td>                        </td><td>                        </td><td>  Specific              </td><td>                        </td><td>                        </td><td>                        </td></tr>\n",
       "<tr><td>                         </td><td>Radial SOS              </td><td>Tibial SOS              </td><td>Radial SOS              </td><td>Tibial SOS              </td><td>Radial SOS              </td><td>Tibial SOS              </td><td>Radial SOS              </td><td>Tibial SOS              </td></tr>\n",
       "<tr><td colspan=9><hr></td></tr>\n",
       "<tr><td>Grip strength            </td><td>    0.2878<sup>***</sup></td><td>                        </td><td>    0.2878<sup>***</sup></td><td>                        </td><td>    0.2570<sup>***</sup></td><td>                        </td><td>    0.2570<sup>***</sup></td><td>                        </td></tr>\n",
       "<tr><td>                         </td><td>  (0.0615)              </td><td>                        </td><td>  (0.0615)              </td><td>                        </td><td>  (0.0716)              </td><td>                        </td><td>  (0.0716)              </td><td>                        </td></tr>\n",
       "<tr><td colspan=9>&nbsp;</td></tr>\n",
       "<tr><td>Knee extensor            </td><td>                        </td><td>    0.2878<sup>***</sup></td><td>                        </td><td>    0.2878<sup>***</sup></td><td>                        </td><td>    0.2951<sup>***</sup></td><td>                        </td><td>    0.2951<sup>***</sup></td></tr>\n",
       "<tr><td>                         </td><td>                        </td><td>  (0.0615)              </td><td>                        </td><td>  (0.0615)              </td><td>                        </td><td>  (0.0710)              </td><td>                        </td><td>  (0.0710)              </td></tr>\n",
       "<tr><td colspan=9>&nbsp;</td></tr>\n",
       "<tr><td>Physical maturation      </td><td>    0.2412<sup>***</sup></td><td>    0.2412<sup>***</sup></td><td>    0.2412<sup>***</sup></td><td>    0.2412<sup>***</sup></td><td>    0.1646<sup>***</sup></td><td>    0.2998<sup>***</sup></td><td>    0.1646<sup>***</sup></td><td>    0.2998<sup>***</sup></td></tr>\n",
       "<tr><td>                         </td><td>  (0.0520)              </td><td>  (0.0520)              </td><td>  (0.0520)              </td><td>  (0.0520)              </td><td>  (0.0626)              </td><td>  (0.0594)              </td><td>  (0.0626)              </td><td>  (0.0594)              </td></tr>\n",
       "<tr><td colspan=9>&nbsp;</td></tr>\n",
       "<tr><td>Ntx creatinine           </td><td>   -0.1840<sup>***</sup></td><td>   -0.1840<sup>***</sup></td><td>   -0.1840<sup>***</sup></td><td>   -0.1840<sup>***</sup></td><td>   -0.2507<sup>***</sup></td><td>   -0.1526<sup>***</sup></td><td>   -0.2507<sup>***</sup></td><td>   -0.1526<sup>***</sup></td></tr>\n",
       "<tr><td>                         </td><td>  (0.0332)              </td><td>  (0.0332)              </td><td>  (0.0332)              </td><td>  (0.0332)              </td><td>  (0.0498)              </td><td>  (0.0382)              </td><td>  (0.0498)              </td><td>  (0.0382)              </td></tr>\n",
       "<tr><td colspan=9>&nbsp;</td></tr>\n",
       "<tr><td>PA PRVNT                 </td><td>    0.0565<sup>*</sup>  </td><td>    0.0565<sup>*</sup>  </td><td>    0.0565<sup>*</sup>  </td><td>    0.0565<sup>*</sup>  </td><td>    0.0923<sup>**</sup> </td><td>    0.0328              </td><td>    0.0923<sup>**</sup> </td><td>    0.0328              </td></tr>\n",
       "<tr><td>                         </td><td>  (0.0292)              </td><td>  (0.0292)              </td><td>  (0.0292)              </td><td>  (0.0292)              </td><td>  (0.0433)              </td><td>  (0.0350)              </td><td>  (0.0433)              </td><td>  (0.0350)              </td></tr>\n",
       "<tr><td colspan=9>&nbsp;</td></tr>\n",
       "<tr><td>BMI                      </td><td>   -0.1784<sup>***</sup></td><td>   -0.1784<sup>***</sup></td><td>   -0.1784<sup>***</sup></td><td>   -0.1784<sup>***</sup></td><td>   -0.0604              </td><td>   -0.2526<sup>***</sup></td><td>   -0.0604              </td><td>   -0.2526<sup>***</sup></td></tr>\n",
       "<tr><td>                         </td><td>  (0.0560)              </td><td>  (0.0560)              </td><td>  (0.0560)              </td><td>  (0.0560)              </td><td>  (0.0669)              </td><td>  (0.0615)              </td><td>  (0.0669)              </td><td>  (0.0615)              </td></tr>\n",
       "<tr><td colspan=9>&nbsp;</td></tr>\n",
       "<tr><td>Energy intake            </td><td>                        </td><td>                        </td><td>                        </td><td>                        </td><td>                        </td><td>                        </td><td>                        </td><td>                        </td></tr>\n",
       "<tr><td>                         </td><td>                        </td><td>                        </td><td>                        </td><td>                        </td><td>                        </td><td>                        </td><td>                        </td><td>                        </td></tr>\n",
       "<tr><td colspan=9>&nbsp;</td></tr>\n",
       "<tr><td>PA Godin                 </td><td>                        </td><td>                        </td><td>                        </td><td>                        </td><td>                        </td><td>                        </td><td>                        </td><td>                        </td></tr>\n",
       "<tr><td>                         </td><td>                        </td><td>                        </td><td>                        </td><td>                        </td><td>                        </td><td>                        </td><td>                        </td><td>                        </td></tr>\n",
       "<tr><td colspan=9>&nbsp;</td></tr>\n",
       "<tr><td>Bone age                 </td><td>                        </td><td>                        </td><td>                        </td><td>                        </td><td>                        </td><td>                        </td><td>                        </td><td>                        </td></tr>\n",
       "<tr><td>                         </td><td>                        </td><td>                        </td><td>                        </td><td>                        </td><td>                        </td><td>                        </td><td>                        </td><td>                        </td></tr>\n",
       "<tr><td colspan=9>&nbsp;</td></tr>\n",
       "<tr><td>Constant                 </td><td>   -0.0302              </td><td>   -0.0302              </td><td>   -0.0302              </td><td>   -0.0302              </td><td>   -0.0346              </td><td>   -0.0330              </td><td>   -0.0346              </td><td>   -0.0330              </td></tr>\n",
       "<tr><td>                         </td><td>  (0.0504)              </td><td>  (0.0504)              </td><td>  (0.0504)              </td><td>  (0.0504)              </td><td>  (0.0590)              </td><td>  (0.0538)              </td><td>  (0.0590)              </td><td>  (0.0538)              </td></tr>\n",
       "<tr><td colspan=9><hr></td></tr>\n",
       "<tr><td>_M1v1                    </td><td>    0.3357              </td><td>                        </td><td>                        </td><td>                        </td><td>                        </td><td>                        </td><td>                        </td><td>                        </td></tr>\n",
       "<tr><td>_M1v2                    </td><td>    0.1714              </td><td>                        </td><td>                        </td><td>                        </td><td>                        </td><td>                        </td><td>                        </td><td>                        </td></tr>\n",
       "<tr><td>_M1v3                    </td><td>   -0.0201              </td><td>                        </td><td>                        </td><td>                        </td><td>                        </td><td>                        </td><td>                        </td><td>                        </td></tr>\n",
       "<tr><td>_M2v1                    </td><td>                        </td><td>                        </td><td>                        </td><td>                        </td><td>    0.3360              </td><td>                        </td><td>                        </td><td>                        </td></tr>\n",
       "<tr><td>_M2v2                    </td><td>                        </td><td>                        </td><td>                        </td><td>                        </td><td>    0.1711              </td><td>                        </td><td>                        </td><td>                        </td></tr>\n",
       "<tr><td>_M2v3                    </td><td>                        </td><td>                        </td><td>                        </td><td>                        </td><td>   -0.0178              </td><td>                        </td><td>                        </td><td>                        </td></tr>\n",
       "<tr><td colspan=9><hr></td></tr>\n",
       "<tr><td colspan=9>\n",
       "Notes: Standard errors in parentheses.\n",
       "</td></tr>\n",
       "</table>\n"
      ],
      "text/plain": [
       "<IPython.core.display.HTML object>"
      ]
     },
     "execution_count": 21,
     "metadata": {},
     "output_type": "execute_result"
    }
   ],
   "source": [
    "HTML('table_all_particiapants.html')"
   ]
  },
  {
   "cell_type": "markdown",
   "metadata": {},
   "source": [
    "## Table 3. Bone property estimation results for boys and girl"
   ]
  },
  {
   "cell_type": "code",
   "execution_count": null,
   "metadata": {},
   "outputs": [],
   "source": [
    "HTML('table_boys_girls_general.html')"
   ]
  },
  {
   "cell_type": "markdown",
   "metadata": {},
   "source": [
    "## Table 4. Radial and tibial estimation results for boys and girl\n"
   ]
  },
  {
   "cell_type": "code",
   "execution_count": 22,
   "metadata": {},
   "outputs": [
    {
     "data": {
      "text/html": [
       "table_boys_girls_specific.html"
      ],
      "text/plain": [
       "<IPython.core.display.HTML object>"
      ]
     },
     "execution_count": 22,
     "metadata": {},
     "output_type": "execute_result"
    }
   ],
   "source": [
    "HTML('table_boys_girls_specific.html')"
   ]
  },
  {
   "cell_type": "code",
   "execution_count": null,
   "metadata": {},
   "outputs": [],
   "source": []
  }
 ],
 "metadata": {
  "kernelspec": {
   "display_name": "Python 3",
   "language": "python",
   "name": "python3"
  },
  "language_info": {
   "codemirror_mode": {
    "name": "ipython",
    "version": 3
   },
   "file_extension": ".py",
   "mimetype": "text/x-python",
   "name": "python",
   "nbconvert_exporter": "python",
   "pygments_lexer": "ipython3",
   "version": "3.6.3"
  },
  "latex_metadata": {
   "affiliation": "Brock University, Faculty of Applied Health Sciences",
   "author": "Izabella A. Ludwa",
   "title": "Functional Bone Development in Children"
  }
 },
 "nbformat": 4,
 "nbformat_minor": 2
}
