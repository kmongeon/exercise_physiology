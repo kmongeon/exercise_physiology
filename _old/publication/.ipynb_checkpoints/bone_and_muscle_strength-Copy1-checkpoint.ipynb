{
 "cells": [
  {
   "cell_type": "markdown",
   "metadata": {},
   "source": [
    "# Longitudinal examination of the bone mechanostat theory in children\n",
    "\n",
    "\n",
    "\n",
    "Izabella A. Ludwa, Kevin Mongeon, Bareket Falk and Panagiota Klentrou\n",
    "\n",
    "\n"
   ]
  },
  {
   "cell_type": "code",
   "execution_count": 113,
   "metadata": {
    "ExecuteTime": {
     "end_time": "2017-09-04T18:55:31.107333Z",
     "start_time": "2017-09-04T18:55:31.098728Z"
    }
   },
   "outputs": [],
   "source": [
    "import os\n",
    "import sys\n",
    "import shutil\n",
    "import pandas\n",
    "import numpy\n",
    "import ipystata\n",
    "import matplotlib.pyplot as plt\n",
    "\n",
    "from ipystata.config import config_stata\n",
    "config_stata('/home/kmongeon/research/stata14/stata-mp',force_batch=True)\n",
    "\n",
    "pandas.options.display.max_columns = 100\n",
    "pandas.options.display.max_rows = 500\n",
    "\n"
   ]
  },
  {
   "cell_type": "code",
   "execution_count": 114,
   "metadata": {
    "ExecuteTime": {
     "end_time": "2017-09-04T18:55:31.268956Z",
     "start_time": "2017-09-04T18:55:31.256014Z"
    },
    "collapsed": true
   },
   "outputs": [],
   "source": [
    "d1 = pandas.read_csv('./data/IzzyLongitudinalWorkingMarch2015.csv')\n",
    "d2 = pandas.read_csv('./data/torque.csv')\n",
    "d3 = pandas.read_csv('./data/Spring_2013_knee_extension.csv')\n"
   ]
  },
  {
   "cell_type": "markdown",
   "metadata": {},
   "source": [
    "## IzzyLongitudinalWorkingMarch2015"
   ]
  },
  {
   "cell_type": "code",
   "execution_count": 115,
   "metadata": {
    "ExecuteTime": {
     "end_time": "2017-09-04T18:55:31.551544Z",
     "start_time": "2017-09-04T18:55:31.547191Z"
    }
   },
   "outputs": [
    {
     "data": {
      "text/plain": [
       "Index(['ID', 'Session', 'Sequence', 'Gender', 'Age', 'Height', 'Seated Height',\n",
       "       'Leg Length', 'Weight', 'BF_Slaughter', 'BIA_PBF', 'BMI', 'LBM (kg)',\n",
       "       'Years from aPHV', 'Age_At_PHV', 'Mat_Offset_New', 'Bone_Age', 'Tanner',\n",
       "       'Menarche', 'Age_First_Period', 'Period_Frequency', 'Medications',\n",
       "       'Vitamins', 'Fracture', 'Radius_SOS', 'Radius_Z', 'Tibial_SOS',\n",
       "       'Tibial_Z', 'Wrist_Flexion_Best', 'Grip_Strength_Best',\n",
       "       'Forearm_Length', 'ForeArm_Lean_CSA', 'Forearm_US_CSA', 'Anterior_CSA',\n",
       "       'Anterior Radius', 'Ant_Rad_CSA', 'Anterior Ulna', 'Ant_Ulna_CSA',\n",
       "       'Posterior', 'Post_CSA', 'Tibialis Anterior', 'NTx', 'Creatinine',\n",
       "       'NTx/Creat', 'Caloric Intake', 'Calcium', 'Vit D', 'Vit D.1',\n",
       "       'Caffeine', 'tot sedetary', 'tot light', 'tot mod', 'tot hard',\n",
       "       'tot v hard', 'tot mvh', 'Total time', 'Godin_PA', 'PAQ_TOTAL_SCORE',\n",
       "       'PAQ-PRVNT', 'Training_Data', 'Upper Arm_Length', 'Arm_Circumference',\n",
       "       'Arm_Lean_CSA', 'Thigh_Length', 'Thigh_Circumference', 'Thigh_Lean_CSA',\n",
       "       'Biceps Brachii', 'Biceps Brachii.1', 'Quads', 'Quads.1'],\n",
       "      dtype='object')"
      ]
     },
     "execution_count": 115,
     "metadata": {},
     "output_type": "execute_result"
    }
   ],
   "source": [
    "d1.columns"
   ]
  },
  {
   "cell_type": "code",
   "execution_count": 116,
   "metadata": {
    "ExecuteTime": {
     "end_time": "2017-09-04T18:55:31.712072Z",
     "start_time": "2017-09-04T18:55:31.708561Z"
    },
    "collapsed": true
   },
   "outputs": [],
   "source": [
    "d1 = d1[['ID', 'Session', 'Sequence', 'Gender', 'Radius_SOS', 'Tibial_SOS', 'Grip_Strength_Best', 'NTx/Creat', 'Mat_Offset_New', 'tot mvh', 'Age']]"
   ]
  },
  {
   "cell_type": "code",
   "execution_count": 117,
   "metadata": {
    "ExecuteTime": {
     "end_time": "2017-09-04T18:55:31.856012Z",
     "start_time": "2017-09-04T18:55:31.852141Z"
    },
    "collapsed": true
   },
   "outputs": [],
   "source": [
    "d1 = d1.rename(columns={'ID': 'id', 'Session': 'session', 'Sequence': 'sequence'\n",
    "                   , 'Gender': 'gender', 'Radius_SOS': 'rsos', 'Tibial_SOS': 'tsos'\n",
    "                   , 'Grip_Strength_Best': 'grip', 'NTx/Creat': 'ntxc', 'Mat_Offset_New': 'matu', 'tot mvh': 'mvh', 'Age': 'age'})"
   ]
  },
  {
   "cell_type": "code",
   "execution_count": 118,
   "metadata": {
    "ExecuteTime": {
     "end_time": "2017-09-04T18:55:32.003463Z",
     "start_time": "2017-09-04T18:55:31.996898Z"
    }
   },
   "outputs": [
    {
     "data": {
      "text/plain": [
       "512    4\n",
       "513    2\n",
       "514    4\n",
       "515    4\n",
       "516    4\n",
       "517    4\n",
       "518    4\n",
       "519    3\n",
       "520    3\n",
       "521    3\n",
       "522    1\n",
       "523    3\n",
       "524    3\n",
       "525    3\n",
       "526    3\n",
       "527    3\n",
       "528    3\n",
       "530    3\n",
       "531    3\n",
       "532    3\n",
       "533    3\n",
       "534    2\n",
       "535    3\n",
       "536    2\n",
       "537    2\n",
       "538    2\n",
       "539    2\n",
       "540    1\n",
       "541    3\n",
       "542    3\n",
       "543    3\n",
       "544    3\n",
       "545    3\n",
       "546    2\n",
       "547    2\n",
       "548    3\n",
       "549    3\n",
       "550    3\n",
       "551    3\n",
       "552    3\n",
       "553    2\n",
       "554    2\n",
       "555    1\n",
       "556    3\n",
       "557    3\n",
       "558    1\n",
       "559    1\n",
       "560    2\n",
       "561    2\n",
       "562    1\n",
       "563    2\n",
       "564    1\n",
       "565    2\n",
       "566    2\n",
       "567    2\n",
       "568    1\n",
       "569    2\n",
       "570    1\n",
       "571    1\n",
       "572    2\n",
       "573    2\n",
       "574    2\n",
       "575    2\n",
       "576    1\n",
       "577    2\n",
       "579    2\n",
       "581    2\n",
       "582    1\n",
       "583    1\n",
       "100    4\n",
       "101    1\n",
       "102    4\n",
       "103    3\n",
       "104    2\n",
       "105    3\n",
       "106    3\n",
       "107    4\n",
       "108    2\n",
       "109    4\n",
       "110    4\n",
       "111    1\n",
       "112    3\n",
       "114    1\n",
       "115    3\n",
       "116    1\n",
       "117    4\n",
       "118    3\n",
       "119    3\n",
       "120    4\n",
       "121    4\n",
       "122    3\n",
       "123    1\n",
       "124    3\n",
       "125    3\n",
       "126    3\n",
       "127    3\n",
       "128    1\n",
       "129    3\n",
       "130    3\n",
       "131    3\n",
       "132    3\n",
       "133    3\n",
       "134    3\n",
       "135    3\n",
       "136    2\n",
       "137    3\n",
       "138    3\n",
       "139    3\n",
       "140    3\n",
       "141    3\n",
       "142    3\n",
       "143    3\n",
       "144    1\n",
       "145    3\n",
       "146    3\n",
       "147    3\n",
       "148    3\n",
       "149    3\n",
       "150    2\n",
       "151    3\n",
       "152    3\n",
       "153    3\n",
       "154    2\n",
       "155    3\n",
       "156    3\n",
       "157    2\n",
       "158    2\n",
       "159    3\n",
       "160    2\n",
       "161    3\n",
       "162    3\n",
       "163    2\n",
       "164    2\n",
       "165    2\n",
       "167    2\n",
       "168    2\n",
       "169    2\n",
       "170    2\n",
       "171    1\n",
       "172    1\n",
       "173    2\n",
       "174    2\n",
       "175    2\n",
       "176    2\n",
       "177    2\n",
       "178    1\n",
       "179    1\n",
       "180    1\n",
       "181    2\n",
       "182    1\n",
       "183    1\n",
       "184    1\n",
       "186    2\n",
       "187    1\n",
       "188    2\n",
       "189    2\n",
       "190    2\n",
       "191    2\n",
       "192    2\n",
       "193    1\n",
       "195    1\n",
       "196    1\n",
       "197    1\n",
       "198    1\n",
       "199    1\n",
       "200    1\n",
       "500    4\n",
       "501    3\n",
       "502    4\n",
       "503    4\n",
       "504    4\n",
       "505    2\n",
       "506    3\n",
       "507    2\n",
       "508    3\n",
       "509    3\n",
       "510    3\n",
       "511    3\n",
       "Name: id, dtype: int64"
      ]
     },
     "execution_count": 118,
     "metadata": {},
     "output_type": "execute_result"
    }
   ],
   "source": [
    "d1.id.value_counts(dropna=False, sort=False)\n"
   ]
  },
  {
   "cell_type": "code",
   "execution_count": 119,
   "metadata": {
    "ExecuteTime": {
     "end_time": "2017-09-04T18:55:32.149589Z",
     "start_time": "2017-09-04T18:55:32.144970Z"
    }
   },
   "outputs": [
    {
     "data": {
      "text/plain": [
       "1    244\n",
       "2    183\n",
       "Name: session, dtype: int64"
      ]
     },
     "execution_count": 119,
     "metadata": {},
     "output_type": "execute_result"
    }
   ],
   "source": [
    "d1.session.value_counts(dropna=False, sort=False)"
   ]
  },
  {
   "cell_type": "code",
   "execution_count": 120,
   "metadata": {
    "ExecuteTime": {
     "end_time": "2017-09-04T18:55:32.299476Z",
     "start_time": "2017-09-04T18:55:32.294805Z"
    }
   },
   "outputs": [
    {
     "data": {
      "text/plain": [
       "1    44\n",
       "2    38\n",
       "3    78\n",
       "4    71\n",
       "5    71\n",
       "6    74\n",
       "7    51\n",
       "Name: sequence, dtype: int64"
      ]
     },
     "execution_count": 120,
     "metadata": {},
     "output_type": "execute_result"
    }
   ],
   "source": [
    "d1.sequence.value_counts(dropna=False, sort=False)"
   ]
  },
  {
   "cell_type": "code",
   "execution_count": 121,
   "metadata": {
    "ExecuteTime": {
     "end_time": "2017-09-04T18:55:32.482999Z",
     "start_time": "2017-09-04T18:55:32.449059Z"
    }
   },
   "outputs": [
    {
     "data": {
      "text/html": [
       "<div>\n",
       "<table border=\"1\" class=\"dataframe\">\n",
       "  <thead>\n",
       "    <tr style=\"text-align: right;\">\n",
       "      <th></th>\n",
       "      <th>id</th>\n",
       "      <th>session</th>\n",
       "      <th>sequence</th>\n",
       "      <th>gender</th>\n",
       "      <th>rsos</th>\n",
       "      <th>tsos</th>\n",
       "      <th>grip</th>\n",
       "      <th>ntxc</th>\n",
       "      <th>matu</th>\n",
       "      <th>mvh</th>\n",
       "      <th>age</th>\n",
       "    </tr>\n",
       "  </thead>\n",
       "  <tbody>\n",
       "    <tr>\n",
       "      <th>count</th>\n",
       "      <td>427.000000</td>\n",
       "      <td>427.000000</td>\n",
       "      <td>427.000000</td>\n",
       "      <td>427.000000</td>\n",
       "      <td>417.000000</td>\n",
       "      <td>417.000000</td>\n",
       "      <td>381.000000</td>\n",
       "      <td>386.000000</td>\n",
       "      <td>427.000000</td>\n",
       "      <td>308.000000</td>\n",
       "      <td>427.000000</td>\n",
       "    </tr>\n",
       "    <tr>\n",
       "      <th>mean</th>\n",
       "      <td>327.170960</td>\n",
       "      <td>1.428571</td>\n",
       "      <td>4.201405</td>\n",
       "      <td>0.470726</td>\n",
       "      <td>3815.769784</td>\n",
       "      <td>3687.139089</td>\n",
       "      <td>23.425276</td>\n",
       "      <td>540.102985</td>\n",
       "      <td>-0.861546</td>\n",
       "      <td>106.292565</td>\n",
       "      <td>11.848595</td>\n",
       "    </tr>\n",
       "    <tr>\n",
       "      <th>std</th>\n",
       "      <td>197.600195</td>\n",
       "      <td>0.495452</td>\n",
       "      <td>1.835154</td>\n",
       "      <td>0.499728</td>\n",
       "      <td>101.452313</td>\n",
       "      <td>109.664084</td>\n",
       "      <td>7.354460</td>\n",
       "      <td>265.053370</td>\n",
       "      <td>2.009230</td>\n",
       "      <td>41.683699</td>\n",
       "      <td>2.010880</td>\n",
       "    </tr>\n",
       "    <tr>\n",
       "      <th>min</th>\n",
       "      <td>100.000000</td>\n",
       "      <td>1.000000</td>\n",
       "      <td>1.000000</td>\n",
       "      <td>0.000000</td>\n",
       "      <td>3542.000000</td>\n",
       "      <td>3367.000000</td>\n",
       "      <td>9.000000</td>\n",
       "      <td>56.308327</td>\n",
       "      <td>-5.300000</td>\n",
       "      <td>13.570000</td>\n",
       "      <td>7.500000</td>\n",
       "    </tr>\n",
       "    <tr>\n",
       "      <th>25%</th>\n",
       "      <td>138.500000</td>\n",
       "      <td>1.000000</td>\n",
       "      <td>3.000000</td>\n",
       "      <td>0.000000</td>\n",
       "      <td>3746.000000</td>\n",
       "      <td>3619.000000</td>\n",
       "      <td>18.000000</td>\n",
       "      <td>370.012518</td>\n",
       "      <td>-2.290000</td>\n",
       "      <td>78.140000</td>\n",
       "      <td>10.340000</td>\n",
       "    </tr>\n",
       "    <tr>\n",
       "      <th>50%</th>\n",
       "      <td>190.000000</td>\n",
       "      <td>1.000000</td>\n",
       "      <td>4.000000</td>\n",
       "      <td>0.000000</td>\n",
       "      <td>3820.000000</td>\n",
       "      <td>3689.000000</td>\n",
       "      <td>22.250000</td>\n",
       "      <td>513.997357</td>\n",
       "      <td>-0.980000</td>\n",
       "      <td>99.200000</td>\n",
       "      <td>11.850000</td>\n",
       "    </tr>\n",
       "    <tr>\n",
       "      <th>75%</th>\n",
       "      <td>530.000000</td>\n",
       "      <td>2.000000</td>\n",
       "      <td>6.000000</td>\n",
       "      <td>1.000000</td>\n",
       "      <td>3878.000000</td>\n",
       "      <td>3758.000000</td>\n",
       "      <td>27.500000</td>\n",
       "      <td>661.737729</td>\n",
       "      <td>0.485000</td>\n",
       "      <td>133.657500</td>\n",
       "      <td>13.230000</td>\n",
       "    </tr>\n",
       "    <tr>\n",
       "      <th>max</th>\n",
       "      <td>583.000000</td>\n",
       "      <td>2.000000</td>\n",
       "      <td>7.000000</td>\n",
       "      <td>1.000000</td>\n",
       "      <td>4140.000000</td>\n",
       "      <td>4015.000000</td>\n",
       "      <td>53.000000</td>\n",
       "      <td>1754.324517</td>\n",
       "      <td>9.660000</td>\n",
       "      <td>235.000000</td>\n",
       "      <td>17.550000</td>\n",
       "    </tr>\n",
       "  </tbody>\n",
       "</table>\n",
       "</div>"
      ],
      "text/plain": [
       "               id     session    sequence      gender         rsos  \\\n",
       "count  427.000000  427.000000  427.000000  427.000000   417.000000   \n",
       "mean   327.170960    1.428571    4.201405    0.470726  3815.769784   \n",
       "std    197.600195    0.495452    1.835154    0.499728   101.452313   \n",
       "min    100.000000    1.000000    1.000000    0.000000  3542.000000   \n",
       "25%    138.500000    1.000000    3.000000    0.000000  3746.000000   \n",
       "50%    190.000000    1.000000    4.000000    0.000000  3820.000000   \n",
       "75%    530.000000    2.000000    6.000000    1.000000  3878.000000   \n",
       "max    583.000000    2.000000    7.000000    1.000000  4140.000000   \n",
       "\n",
       "              tsos        grip         ntxc        matu         mvh  \\\n",
       "count   417.000000  381.000000   386.000000  427.000000  308.000000   \n",
       "mean   3687.139089   23.425276   540.102985   -0.861546  106.292565   \n",
       "std     109.664084    7.354460   265.053370    2.009230   41.683699   \n",
       "min    3367.000000    9.000000    56.308327   -5.300000   13.570000   \n",
       "25%    3619.000000   18.000000   370.012518   -2.290000   78.140000   \n",
       "50%    3689.000000   22.250000   513.997357   -0.980000   99.200000   \n",
       "75%    3758.000000   27.500000   661.737729    0.485000  133.657500   \n",
       "max    4015.000000   53.000000  1754.324517    9.660000  235.000000   \n",
       "\n",
       "              age  \n",
       "count  427.000000  \n",
       "mean    11.848595  \n",
       "std      2.010880  \n",
       "min      7.500000  \n",
       "25%     10.340000  \n",
       "50%     11.850000  \n",
       "75%     13.230000  \n",
       "max     17.550000  "
      ]
     },
     "execution_count": 121,
     "metadata": {},
     "output_type": "execute_result"
    }
   ],
   "source": [
    "d1.describe()"
   ]
  },
  {
   "cell_type": "markdown",
   "metadata": {},
   "source": [
    "# torque"
   ]
  },
  {
   "cell_type": "code",
   "execution_count": 122,
   "metadata": {
    "ExecuteTime": {
     "end_time": "2017-09-04T18:55:32.911336Z",
     "start_time": "2017-09-04T18:55:32.907680Z"
    }
   },
   "outputs": [
    {
     "data": {
      "text/plain": [
       "Index(['ID', 'Biodex_ID', 'Sequence', 'Session', 'New_Sequence', 'Gender',\n",
       "       'Visit_One', 'Visit_Two', 'DOB', 'Age (days)', 'Age (years)', 'ptiso',\n",
       "       'pt60', 'pt240'],\n",
       "      dtype='object')"
      ]
     },
     "execution_count": 122,
     "metadata": {},
     "output_type": "execute_result"
    }
   ],
   "source": [
    "d2.columns"
   ]
  },
  {
   "cell_type": "code",
   "execution_count": 123,
   "metadata": {
    "ExecuteTime": {
     "end_time": "2017-09-04T18:55:33.070346Z",
     "start_time": "2017-09-04T18:55:33.066324Z"
    }
   },
   "outputs": [],
   "source": [
    "d2 = d2[['ID', 'Session', 'Sequence', 'New_Sequence', 'Gender', 'ptiso', 'Age (years)']]"
   ]
  },
  {
   "cell_type": "code",
   "execution_count": 124,
   "metadata": {
    "ExecuteTime": {
     "end_time": "2017-09-04T18:55:33.230614Z",
     "start_time": "2017-09-04T18:55:33.226937Z"
    }
   },
   "outputs": [],
   "source": [
    "d2 = d2.rename(columns={'ID': 'id', 'Session': 'session', 'Sequence': 'sequence'\n",
    "                   , 'Gender': 'gender', 'New_Sequence': 'new_sequence', 'ptiso': 'ptiso', 'Age (years)': 'age'})"
   ]
  },
  {
   "cell_type": "code",
   "execution_count": 125,
   "metadata": {
    "ExecuteTime": {
     "end_time": "2017-09-04T18:55:33.420509Z",
     "start_time": "2017-09-04T18:55:33.413448Z"
    }
   },
   "outputs": [
    {
     "data": {
      "text/plain": [
       "512    3\n",
       "513    2\n",
       "514    3\n",
       "515    3\n",
       "516    3\n",
       "517    3\n",
       "518    3\n",
       "519    3\n",
       "520    3\n",
       "521    3\n",
       "522    1\n",
       "523    3\n",
       "524    3\n",
       "525    3\n",
       "526    3\n",
       "527    3\n",
       "528    3\n",
       "529    1\n",
       "530    3\n",
       "531    3\n",
       "532    2\n",
       "533    3\n",
       "534    2\n",
       "535    3\n",
       "536    2\n",
       "537    2\n",
       "538    2\n",
       "539    2\n",
       "540    1\n",
       "541    2\n",
       "542    2\n",
       "543    2\n",
       "544    2\n",
       "545    2\n",
       "546    2\n",
       "547    2\n",
       "548    2\n",
       "549    2\n",
       "550    2\n",
       "551    2\n",
       "552    2\n",
       "553    2\n",
       "554    2\n",
       "555    1\n",
       "556    2\n",
       "557    2\n",
       "558    1\n",
       "559    1\n",
       "560    2\n",
       "561    2\n",
       "562    1\n",
       "563    2\n",
       "564    1\n",
       "565    2\n",
       "566    2\n",
       "567    2\n",
       "568    1\n",
       "569    2\n",
       "570    1\n",
       "571    1\n",
       "572    2\n",
       "573    2\n",
       "574    2\n",
       "575    2\n",
       "576    1\n",
       "577    2\n",
       "579    1\n",
       "581    1\n",
       "582    1\n",
       "583    1\n",
       "100    3\n",
       "101    1\n",
       "102    3\n",
       "103    2\n",
       "104    2\n",
       "105    3\n",
       "106    3\n",
       "107    3\n",
       "108    2\n",
       "109    3\n",
       "110    3\n",
       "111    1\n",
       "112    3\n",
       "113    3\n",
       "114    1\n",
       "115    3\n",
       "116    1\n",
       "117    3\n",
       "118    3\n",
       "119    3\n",
       "120    3\n",
       "121    3\n",
       "122    3\n",
       "123    1\n",
       "124    3\n",
       "125    3\n",
       "126    3\n",
       "127    3\n",
       "128    3\n",
       "129    3\n",
       "130    3\n",
       "131    3\n",
       "132    3\n",
       "133    3\n",
       "134    3\n",
       "135    3\n",
       "136    2\n",
       "137    3\n",
       "138    3\n",
       "139    3\n",
       "140    3\n",
       "141    3\n",
       "142    3\n",
       "143    3\n",
       "144    1\n",
       "145    3\n",
       "146    3\n",
       "147    3\n",
       "148    2\n",
       "149    2\n",
       "150    2\n",
       "151    2\n",
       "152    2\n",
       "153    2\n",
       "154    2\n",
       "155    2\n",
       "156    2\n",
       "157    2\n",
       "158    2\n",
       "159    2\n",
       "160    2\n",
       "161    2\n",
       "162    2\n",
       "163    2\n",
       "164    2\n",
       "165    2\n",
       "167    2\n",
       "168    2\n",
       "169    2\n",
       "170    2\n",
       "171    1\n",
       "172    1\n",
       "173    2\n",
       "174    2\n",
       "175    2\n",
       "176    2\n",
       "177    2\n",
       "178    1\n",
       "179    1\n",
       "181    2\n",
       "182    1\n",
       "183    1\n",
       "184    1\n",
       "186    1\n",
       "187    1\n",
       "188    1\n",
       "189    1\n",
       "190    1\n",
       "191    1\n",
       "192    1\n",
       "193    1\n",
       "195    1\n",
       "196    1\n",
       "197    1\n",
       "198    1\n",
       "199    1\n",
       "200    1\n",
       "800    1\n",
       "801    1\n",
       "802    1\n",
       "803    1\n",
       "804    1\n",
       "805    1\n",
       "806    1\n",
       "807    1\n",
       "808    1\n",
       "809    1\n",
       "810    1\n",
       "811    1\n",
       "812    1\n",
       "813    1\n",
       "814    1\n",
       "815    1\n",
       "816    1\n",
       "817    1\n",
       "818    1\n",
       "819    1\n",
       "900    1\n",
       "901    1\n",
       "902    1\n",
       "903    1\n",
       "904    1\n",
       "905    1\n",
       "906    1\n",
       "907    1\n",
       "908    1\n",
       "909    1\n",
       "910    1\n",
       "911    1\n",
       "912    1\n",
       "913    1\n",
       "914    1\n",
       "915    1\n",
       "916    1\n",
       "917    1\n",
       "918    1\n",
       "919    1\n",
       "500    3\n",
       "501    3\n",
       "502    3\n",
       "503    3\n",
       "504    3\n",
       "505    2\n",
       "506    3\n",
       "507    2\n",
       "508    2\n",
       "509    3\n",
       "510    3\n",
       "511    3\n",
       "Name: id, dtype: int64"
      ]
     },
     "execution_count": 125,
     "metadata": {},
     "output_type": "execute_result"
    }
   ],
   "source": [
    "d2.id.value_counts(dropna=False, sort=False)\n"
   ]
  },
  {
   "cell_type": "code",
   "execution_count": 126,
   "metadata": {
    "ExecuteTime": {
     "end_time": "2017-09-04T18:55:33.583966Z",
     "start_time": "2017-09-04T18:55:33.580585Z"
    },
    "collapsed": true
   },
   "outputs": [],
   "source": [
    "d2 = d2.rename(columns={'ID': 'id', 'Session': 'session', 'Sequence': 'sequence'\n",
    "                   , 'Gender': 'gender', 'New_Sequence': 'new_sequence', 'ptiso': 'ptiso'})"
   ]
  },
  {
   "cell_type": "code",
   "execution_count": 127,
   "metadata": {
    "ExecuteTime": {
     "end_time": "2017-09-04T18:55:39.057342Z",
     "start_time": "2017-09-04T18:55:39.052637Z"
    }
   },
   "outputs": [
    {
     "data": {
      "text/plain": [
       "0     40\n",
       "1    196\n",
       "2    185\n",
       "Name: session, dtype: int64"
      ]
     },
     "execution_count": 127,
     "metadata": {},
     "output_type": "execute_result"
    }
   ],
   "source": [
    "d2.session.value_counts(dropna=False, sort=False)"
   ]
  },
  {
   "cell_type": "code",
   "execution_count": 128,
   "metadata": {
    "ExecuteTime": {
     "end_time": "2017-09-04T18:55:39.641406Z",
     "start_time": "2017-09-04T18:55:39.636797Z"
    }
   },
   "outputs": [
    {
     "data": {
      "text/plain": [
       "1    124\n",
       "2    150\n",
       "3    147\n",
       "Name: sequence, dtype: int64"
      ]
     },
     "execution_count": 128,
     "metadata": {},
     "output_type": "execute_result"
    }
   ],
   "source": [
    "d2.sequence.value_counts(dropna=False, sort=False)"
   ]
  },
  {
   "cell_type": "code",
   "execution_count": 129,
   "metadata": {
    "ExecuteTime": {
     "end_time": "2017-09-04T18:55:41.533218Z",
     "start_time": "2017-09-04T18:55:41.528512Z"
    }
   },
   "outputs": [
    {
     "data": {
      "text/plain": [
       "0    40\n",
       "1    45\n",
       "2    39\n",
       "3    79\n",
       "4    71\n",
       "5    72\n",
       "6    75\n",
       "Name: new_sequence, dtype: int64"
      ]
     },
     "execution_count": 129,
     "metadata": {},
     "output_type": "execute_result"
    }
   ],
   "source": [
    "d2.new_sequence.value_counts(dropna=False, sort=False)"
   ]
  },
  {
   "cell_type": "code",
   "execution_count": 130,
   "metadata": {
    "ExecuteTime": {
     "end_time": "2017-09-04T18:55:41.925273Z",
     "start_time": "2017-09-04T18:55:41.899037Z"
    }
   },
   "outputs": [
    {
     "data": {
      "text/html": [
       "<div>\n",
       "<table border=\"1\" class=\"dataframe\">\n",
       "  <thead>\n",
       "    <tr style=\"text-align: right;\">\n",
       "      <th></th>\n",
       "      <th>id</th>\n",
       "      <th>session</th>\n",
       "      <th>sequence</th>\n",
       "      <th>new_sequence</th>\n",
       "      <th>gender</th>\n",
       "      <th>ptiso</th>\n",
       "      <th>age</th>\n",
       "    </tr>\n",
       "  </thead>\n",
       "  <tbody>\n",
       "    <tr>\n",
       "      <th>count</th>\n",
       "      <td>421.000000</td>\n",
       "      <td>421.000000</td>\n",
       "      <td>421.000000</td>\n",
       "      <td>421.000000</td>\n",
       "      <td>421.000000</td>\n",
       "      <td>421.000000</td>\n",
       "      <td>421.000000</td>\n",
       "    </tr>\n",
       "    <tr>\n",
       "      <th>mean</th>\n",
       "      <td>374.052257</td>\n",
       "      <td>1.344418</td>\n",
       "      <td>2.054632</td>\n",
       "      <td>3.453682</td>\n",
       "      <td>0.465558</td>\n",
       "      <td>-1599.417980</td>\n",
       "      <td>12.571116</td>\n",
       "    </tr>\n",
       "    <tr>\n",
       "      <th>std</th>\n",
       "      <td>246.011802</td>\n",
       "      <td>0.645607</td>\n",
       "      <td>0.801403</td>\n",
       "      <td>1.906347</td>\n",
       "      <td>0.499406</td>\n",
       "      <td>3820.111329</td>\n",
       "      <td>3.416232</td>\n",
       "    </tr>\n",
       "    <tr>\n",
       "      <th>min</th>\n",
       "      <td>100.000000</td>\n",
       "      <td>0.000000</td>\n",
       "      <td>1.000000</td>\n",
       "      <td>0.000000</td>\n",
       "      <td>0.000000</td>\n",
       "      <td>-9999.000000</td>\n",
       "      <td>7.500000</td>\n",
       "    </tr>\n",
       "    <tr>\n",
       "      <th>25%</th>\n",
       "      <td>139.000000</td>\n",
       "      <td>1.000000</td>\n",
       "      <td>1.000000</td>\n",
       "      <td>2.000000</td>\n",
       "      <td>0.000000</td>\n",
       "      <td>68.413330</td>\n",
       "      <td>10.380000</td>\n",
       "    </tr>\n",
       "    <tr>\n",
       "      <th>50%</th>\n",
       "      <td>501.000000</td>\n",
       "      <td>1.000000</td>\n",
       "      <td>2.000000</td>\n",
       "      <td>4.000000</td>\n",
       "      <td>0.000000</td>\n",
       "      <td>107.227060</td>\n",
       "      <td>11.890000</td>\n",
       "    </tr>\n",
       "    <tr>\n",
       "      <th>75%</th>\n",
       "      <td>542.000000</td>\n",
       "      <td>2.000000</td>\n",
       "      <td>3.000000</td>\n",
       "      <td>5.000000</td>\n",
       "      <td>1.000000</td>\n",
       "      <td>155.718442</td>\n",
       "      <td>13.600000</td>\n",
       "    </tr>\n",
       "    <tr>\n",
       "      <th>max</th>\n",
       "      <td>919.000000</td>\n",
       "      <td>2.000000</td>\n",
       "      <td>3.000000</td>\n",
       "      <td>6.000000</td>\n",
       "      <td>1.000000</td>\n",
       "      <td>491.182248</td>\n",
       "      <td>27.490000</td>\n",
       "    </tr>\n",
       "  </tbody>\n",
       "</table>\n",
       "</div>"
      ],
      "text/plain": [
       "               id     session    sequence  new_sequence      gender  \\\n",
       "count  421.000000  421.000000  421.000000    421.000000  421.000000   \n",
       "mean   374.052257    1.344418    2.054632      3.453682    0.465558   \n",
       "std    246.011802    0.645607    0.801403      1.906347    0.499406   \n",
       "min    100.000000    0.000000    1.000000      0.000000    0.000000   \n",
       "25%    139.000000    1.000000    1.000000      2.000000    0.000000   \n",
       "50%    501.000000    1.000000    2.000000      4.000000    0.000000   \n",
       "75%    542.000000    2.000000    3.000000      5.000000    1.000000   \n",
       "max    919.000000    2.000000    3.000000      6.000000    1.000000   \n",
       "\n",
       "             ptiso         age  \n",
       "count   421.000000  421.000000  \n",
       "mean  -1599.417980   12.571116  \n",
       "std    3820.111329    3.416232  \n",
       "min   -9999.000000    7.500000  \n",
       "25%      68.413330   10.380000  \n",
       "50%     107.227060   11.890000  \n",
       "75%     155.718442   13.600000  \n",
       "max     491.182248   27.490000  "
      ]
     },
     "execution_count": 130,
     "metadata": {},
     "output_type": "execute_result"
    }
   ],
   "source": [
    "d2.describe()"
   ]
  },
  {
   "cell_type": "markdown",
   "metadata": {},
   "source": [
    "# Spring_2013_knee_extension"
   ]
  },
  {
   "cell_type": "code",
   "execution_count": 131,
   "metadata": {
    "ExecuteTime": {
     "end_time": "2017-09-04T18:55:56.087774Z",
     "start_time": "2017-09-04T18:55:56.084337Z"
    }
   },
   "outputs": [
    {
     "data": {
      "text/plain": [
       "Index(['session', 'sequence', 'id', 'ptiso'], dtype='object')"
      ]
     },
     "execution_count": 131,
     "metadata": {},
     "output_type": "execute_result"
    }
   ],
   "source": [
    "d3.columns"
   ]
  },
  {
   "cell_type": "code",
   "execution_count": 132,
   "metadata": {
    "ExecuteTime": {
     "end_time": "2017-09-04T18:55:56.423176Z",
     "start_time": "2017-09-04T18:55:56.419721Z"
    },
    "collapsed": true
   },
   "outputs": [],
   "source": [
    "d3 = d3[['id', 'session', 'sequence', 'ptiso']]"
   ]
  },
  {
   "cell_type": "code",
   "execution_count": 133,
   "metadata": {
    "ExecuteTime": {
     "end_time": "2017-09-04T18:55:56.948140Z",
     "start_time": "2017-09-04T18:55:56.940942Z"
    }
   },
   "outputs": [
    {
     "data": {
      "text/plain": [
       "512    1\n",
       "514    1\n",
       "515    1\n",
       "516    1\n",
       "517    1\n",
       "518    1\n",
       "159    1\n",
       "148    1\n",
       "149    1\n",
       "151    1\n",
       "152    1\n",
       "153    1\n",
       "155    1\n",
       "156    1\n",
       "541    1\n",
       "542    1\n",
       "543    1\n",
       "544    1\n",
       "161    1\n",
       "162    1\n",
       "548    1\n",
       "549    1\n",
       "550    1\n",
       "551    1\n",
       "552    1\n",
       "556    1\n",
       "557    1\n",
       "186    1\n",
       "545    1\n",
       "188    1\n",
       "189    1\n",
       "190    1\n",
       "191    1\n",
       "579    1\n",
       "120    1\n",
       "100    1\n",
       "102    1\n",
       "103    1\n",
       "107    1\n",
       "109    1\n",
       "110    1\n",
       "113    1\n",
       "500    1\n",
       "117    1\n",
       "502    1\n",
       "532    1\n",
       "504    1\n",
       "121    1\n",
       "508    1\n",
       "503    1\n",
       "Name: id, dtype: int64"
      ]
     },
     "execution_count": 133,
     "metadata": {},
     "output_type": "execute_result"
    }
   ],
   "source": [
    "d3.id.value_counts(dropna=False, sort=False)"
   ]
  },
  {
   "cell_type": "code",
   "execution_count": 134,
   "metadata": {
    "ExecuteTime": {
     "end_time": "2017-09-04T18:55:57.508063Z",
     "start_time": "2017-09-04T18:55:57.503503Z"
    }
   },
   "outputs": [
    {
     "data": {
      "text/plain": [
       "1    50\n",
       "Name: session, dtype: int64"
      ]
     },
     "execution_count": 134,
     "metadata": {},
     "output_type": "execute_result"
    }
   ],
   "source": [
    "d3.session.value_counts(dropna=False, sort=False)"
   ]
  },
  {
   "cell_type": "code",
   "execution_count": 135,
   "metadata": {
    "ExecuteTime": {
     "end_time": "2017-09-04T18:55:58.237362Z",
     "start_time": "2017-09-04T18:55:58.232792Z"
    }
   },
   "outputs": [
    {
     "data": {
      "text/plain": [
       "7    50\n",
       "Name: sequence, dtype: int64"
      ]
     },
     "execution_count": 135,
     "metadata": {},
     "output_type": "execute_result"
    }
   ],
   "source": [
    "d3.sequence.value_counts(dropna=False, sort=False)"
   ]
  },
  {
   "cell_type": "code",
   "execution_count": 141,
   "metadata": {
    "ExecuteTime": {
     "end_time": "2017-09-04T19:02:41.447192Z",
     "start_time": "2017-09-04T19:02:41.432919Z"
    }
   },
   "outputs": [
    {
     "data": {
      "text/html": [
       "<div>\n",
       "<table border=\"1\" class=\"dataframe\">\n",
       "  <thead>\n",
       "    <tr style=\"text-align: right;\">\n",
       "      <th></th>\n",
       "      <th>id</th>\n",
       "      <th>session</th>\n",
       "      <th>sequence</th>\n",
       "      <th>gender</th>\n",
       "      <th>rsos</th>\n",
       "      <th>tsos</th>\n",
       "      <th>grip</th>\n",
       "      <th>ntxc</th>\n",
       "      <th>matu</th>\n",
       "      <th>mvh</th>\n",
       "      <th>age</th>\n",
       "    </tr>\n",
       "  </thead>\n",
       "  <tbody>\n",
       "    <tr>\n",
       "      <th>0</th>\n",
       "      <td>100</td>\n",
       "      <td>1</td>\n",
       "      <td>1</td>\n",
       "      <td>0</td>\n",
       "      <td>3828.0</td>\n",
       "      <td>3601.0</td>\n",
       "      <td>NaN</td>\n",
       "      <td>711.848160</td>\n",
       "      <td>-1.67</td>\n",
       "      <td>105.71</td>\n",
       "      <td>11.75</td>\n",
       "    </tr>\n",
       "    <tr>\n",
       "      <th>1</th>\n",
       "      <td>100</td>\n",
       "      <td>1</td>\n",
       "      <td>3</td>\n",
       "      <td>0</td>\n",
       "      <td>3898.0</td>\n",
       "      <td>3629.0</td>\n",
       "      <td>27.0</td>\n",
       "      <td>760.093945</td>\n",
       "      <td>-0.71</td>\n",
       "      <td>93.62</td>\n",
       "      <td>12.71</td>\n",
       "    </tr>\n",
       "    <tr>\n",
       "      <th>2</th>\n",
       "      <td>100</td>\n",
       "      <td>1</td>\n",
       "      <td>5</td>\n",
       "      <td>0</td>\n",
       "      <td>3851.0</td>\n",
       "      <td>3677.0</td>\n",
       "      <td>37.0</td>\n",
       "      <td>543.734635</td>\n",
       "      <td>0.41</td>\n",
       "      <td>98.14</td>\n",
       "      <td>13.83</td>\n",
       "    </tr>\n",
       "    <tr>\n",
       "      <th>3</th>\n",
       "      <td>100</td>\n",
       "      <td>1</td>\n",
       "      <td>7</td>\n",
       "      <td>0</td>\n",
       "      <td>3952.0</td>\n",
       "      <td>3740.0</td>\n",
       "      <td>40.5</td>\n",
       "      <td>454.364338</td>\n",
       "      <td>1.17</td>\n",
       "      <td>88.14</td>\n",
       "      <td>14.74</td>\n",
       "    </tr>\n",
       "    <tr>\n",
       "      <th>4</th>\n",
       "      <td>101</td>\n",
       "      <td>1</td>\n",
       "      <td>1</td>\n",
       "      <td>0</td>\n",
       "      <td>3682.0</td>\n",
       "      <td>3603.0</td>\n",
       "      <td>NaN</td>\n",
       "      <td>937.996794</td>\n",
       "      <td>-1.63</td>\n",
       "      <td>89.29</td>\n",
       "      <td>11.45</td>\n",
       "    </tr>\n",
       "  </tbody>\n",
       "</table>\n",
       "</div>"
      ],
      "text/plain": [
       "    id  session  sequence  gender    rsos    tsos  grip        ntxc  matu  \\\n",
       "0  100        1         1       0  3828.0  3601.0   NaN  711.848160 -1.67   \n",
       "1  100        1         3       0  3898.0  3629.0  27.0  760.093945 -0.71   \n",
       "2  100        1         5       0  3851.0  3677.0  37.0  543.734635  0.41   \n",
       "3  100        1         7       0  3952.0  3740.0  40.5  454.364338  1.17   \n",
       "4  101        1         1       0  3682.0  3603.0   NaN  937.996794 -1.63   \n",
       "\n",
       "      mvh    age  \n",
       "0  105.71  11.75  \n",
       "1   93.62  12.71  \n",
       "2   98.14  13.83  \n",
       "3   88.14  14.74  \n",
       "4   89.29  11.45  "
      ]
     },
     "execution_count": 141,
     "metadata": {},
     "output_type": "execute_result"
    }
   ],
   "source": [
    "d1.head()"
   ]
  },
  {
   "cell_type": "code",
   "execution_count": 137,
   "metadata": {
    "ExecuteTime": {
     "end_time": "2017-09-04T18:59:11.175193Z",
     "start_time": "2017-09-04T18:59:11.165126Z"
    }
   },
   "outputs": [
    {
     "data": {
      "text/html": [
       "<div>\n",
       "<table border=\"1\" class=\"dataframe\">\n",
       "  <thead>\n",
       "    <tr style=\"text-align: right;\">\n",
       "      <th></th>\n",
       "      <th>id</th>\n",
       "      <th>session</th>\n",
       "      <th>sequence</th>\n",
       "      <th>new_sequence</th>\n",
       "      <th>gender</th>\n",
       "      <th>ptiso</th>\n",
       "      <th>age</th>\n",
       "    </tr>\n",
       "  </thead>\n",
       "  <tbody>\n",
       "    <tr>\n",
       "      <th>0</th>\n",
       "      <td>100</td>\n",
       "      <td>1</td>\n",
       "      <td>1</td>\n",
       "      <td>1</td>\n",
       "      <td>0</td>\n",
       "      <td>113.928056</td>\n",
       "      <td>11.75</td>\n",
       "    </tr>\n",
       "    <tr>\n",
       "      <th>1</th>\n",
       "      <td>100</td>\n",
       "      <td>1</td>\n",
       "      <td>2</td>\n",
       "      <td>3</td>\n",
       "      <td>0</td>\n",
       "      <td>136.023758</td>\n",
       "      <td>12.71</td>\n",
       "    </tr>\n",
       "    <tr>\n",
       "      <th>2</th>\n",
       "      <td>100</td>\n",
       "      <td>1</td>\n",
       "      <td>3</td>\n",
       "      <td>5</td>\n",
       "      <td>0</td>\n",
       "      <td>177.053081</td>\n",
       "      <td>13.83</td>\n",
       "    </tr>\n",
       "    <tr>\n",
       "      <th>3</th>\n",
       "      <td>101</td>\n",
       "      <td>1</td>\n",
       "      <td>1</td>\n",
       "      <td>1</td>\n",
       "      <td>0</td>\n",
       "      <td>133.048794</td>\n",
       "      <td>11.45</td>\n",
       "    </tr>\n",
       "    <tr>\n",
       "      <th>4</th>\n",
       "      <td>102</td>\n",
       "      <td>1</td>\n",
       "      <td>1</td>\n",
       "      <td>1</td>\n",
       "      <td>0</td>\n",
       "      <td>171.360283</td>\n",
       "      <td>12.29</td>\n",
       "    </tr>\n",
       "  </tbody>\n",
       "</table>\n",
       "</div>"
      ],
      "text/plain": [
       "    id  session  sequence  new_sequence  gender       ptiso    age\n",
       "0  100        1         1             1       0  113.928056  11.75\n",
       "1  100        1         2             3       0  136.023758  12.71\n",
       "2  100        1         3             5       0  177.053081  13.83\n",
       "3  101        1         1             1       0  133.048794  11.45\n",
       "4  102        1         1             1       0  171.360283  12.29"
      ]
     },
     "execution_count": 137,
     "metadata": {},
     "output_type": "execute_result"
    }
   ],
   "source": [
    "d2.head()"
   ]
  },
  {
   "cell_type": "code",
   "execution_count": 138,
   "metadata": {
    "ExecuteTime": {
     "end_time": "2017-09-04T18:59:35.925997Z",
     "start_time": "2017-09-04T18:59:35.917682Z"
    }
   },
   "outputs": [
    {
     "data": {
      "text/html": [
       "<div>\n",
       "<table border=\"1\" class=\"dataframe\">\n",
       "  <thead>\n",
       "    <tr style=\"text-align: right;\">\n",
       "      <th></th>\n",
       "      <th>id</th>\n",
       "      <th>session</th>\n",
       "      <th>sequence</th>\n",
       "      <th>ptiso</th>\n",
       "    </tr>\n",
       "  </thead>\n",
       "  <tbody>\n",
       "    <tr>\n",
       "      <th>0</th>\n",
       "      <td>100</td>\n",
       "      <td>1</td>\n",
       "      <td>7</td>\n",
       "      <td>205.8</td>\n",
       "    </tr>\n",
       "    <tr>\n",
       "      <th>1</th>\n",
       "      <td>102</td>\n",
       "      <td>1</td>\n",
       "      <td>7</td>\n",
       "      <td>258.5</td>\n",
       "    </tr>\n",
       "    <tr>\n",
       "      <th>2</th>\n",
       "      <td>103</td>\n",
       "      <td>1</td>\n",
       "      <td>7</td>\n",
       "      <td>235.3</td>\n",
       "    </tr>\n",
       "    <tr>\n",
       "      <th>3</th>\n",
       "      <td>107</td>\n",
       "      <td>1</td>\n",
       "      <td>7</td>\n",
       "      <td>170.3</td>\n",
       "    </tr>\n",
       "    <tr>\n",
       "      <th>4</th>\n",
       "      <td>109</td>\n",
       "      <td>1</td>\n",
       "      <td>7</td>\n",
       "      <td>319.7</td>\n",
       "    </tr>\n",
       "  </tbody>\n",
       "</table>\n",
       "</div>"
      ],
      "text/plain": [
       "    id  session  sequence  ptiso\n",
       "0  100        1         7  205.8\n",
       "1  102        1         7  258.5\n",
       "2  103        1         7  235.3\n",
       "3  107        1         7  170.3\n",
       "4  109        1         7  319.7"
      ]
     },
     "execution_count": 138,
     "metadata": {},
     "output_type": "execute_result"
    }
   ],
   "source": [
    "d3.head()"
   ]
  },
  {
   "cell_type": "code",
   "execution_count": 146,
   "metadata": {
    "ExecuteTime": {
     "end_time": "2017-09-04T19:05:26.010539Z",
     "start_time": "2017-09-04T19:05:26.004627Z"
    }
   },
   "outputs": [
    {
     "data": {
      "text/plain": [
       "session  sequence\n",
       "1        3           78\n",
       "         5           71\n",
       "         7           51\n",
       "         1           44\n",
       "2        6           74\n",
       "         4           71\n",
       "         2           38\n",
       "Name: sequence, dtype: int64"
      ]
     },
     "execution_count": 146,
     "metadata": {},
     "output_type": "execute_result"
    }
   ],
   "source": [
    "d1.groupby('session').sequence.value_counts()"
   ]
  },
  {
   "cell_type": "code",
   "execution_count": 147,
   "metadata": {
    "ExecuteTime": {
     "end_time": "2017-09-04T19:05:26.606928Z",
     "start_time": "2017-09-04T19:05:26.600786Z"
    }
   },
   "outputs": [
    {
     "data": {
      "text/plain": [
       "session  new_sequence\n",
       "0        0               40\n",
       "1        3               79\n",
       "         5               72\n",
       "         1               45\n",
       "2        6               75\n",
       "         4               71\n",
       "         2               39\n",
       "Name: new_sequence, dtype: int64"
      ]
     },
     "execution_count": 147,
     "metadata": {},
     "output_type": "execute_result"
    }
   ],
   "source": [
    "d2.groupby('session').new_sequence.value_counts()"
   ]
  },
  {
   "cell_type": "code",
   "execution_count": 148,
   "metadata": {
    "ExecuteTime": {
     "end_time": "2017-09-04T19:05:27.790072Z",
     "start_time": "2017-09-04T19:05:27.784297Z"
    }
   },
   "outputs": [
    {
     "data": {
      "text/plain": [
       "session  sequence\n",
       "1        7           50\n",
       "Name: sequence, dtype: int64"
      ]
     },
     "execution_count": 148,
     "metadata": {},
     "output_type": "execute_result"
    }
   ],
   "source": [
    "d3.groupby('session').sequence.value_counts()"
   ]
  },
  {
   "cell_type": "code",
   "execution_count": null,
   "metadata": {
    "collapsed": true
   },
   "outputs": [],
   "source": []
  },
  {
   "cell_type": "code",
   "execution_count": null,
   "metadata": {
    "collapsed": true
   },
   "outputs": [],
   "source": []
  }
 ],
 "metadata": {
  "kernelspec": {
   "display_name": "Python 3",
   "language": "python",
   "name": "python3"
  },
  "language_info": {
   "codemirror_mode": {
    "name": "ipython",
    "version": 3
   },
   "file_extension": ".py",
   "mimetype": "text/x-python",
   "name": "python",
   "nbconvert_exporter": "python",
   "pygments_lexer": "ipython3",
   "version": "3.5.3"
  }
 },
 "nbformat": 4,
 "nbformat_minor": 2
}
